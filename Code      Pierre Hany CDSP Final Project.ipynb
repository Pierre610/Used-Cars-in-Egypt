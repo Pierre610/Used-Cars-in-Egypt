{
 "cells": [
  {
   "cell_type": "markdown",
   "id": "ac9b731d",
   "metadata": {},
   "source": [
    "# Used Cars in Egypt Final Project"
   ]
  },
  {
   "cell_type": "markdown",
   "id": "1a7cef3c",
   "metadata": {},
   "source": [
    "### Installing librairies and reading the file"
   ]
  },
  {
   "cell_type": "code",
   "execution_count": 1,
   "id": "06c46f3f",
   "metadata": {},
   "outputs": [],
   "source": [
    "import pandas as pd\n",
    "import numpy as np\n",
    "import seaborn as sns\n",
    "import matplotlib.pyplot as plt\n",
    "%matplotlib inline"
   ]
  },
  {
   "cell_type": "code",
   "execution_count": 2,
   "id": "090641df",
   "metadata": {},
   "outputs": [],
   "source": [
    "df = pd.read_csv('Cars.csv')"
   ]
  },
  {
   "cell_type": "code",
   "execution_count": 3,
   "id": "ab5cceb1",
   "metadata": {},
   "outputs": [
    {
     "data": {
      "text/html": [
       "<div>\n",
       "<style scoped>\n",
       "    .dataframe tbody tr th:only-of-type {\n",
       "        vertical-align: middle;\n",
       "    }\n",
       "\n",
       "    .dataframe tbody tr th {\n",
       "        vertical-align: top;\n",
       "    }\n",
       "\n",
       "    .dataframe thead th {\n",
       "        text-align: right;\n",
       "    }\n",
       "</style>\n",
       "<table border=\"1\" class=\"dataframe\">\n",
       "  <thead>\n",
       "    <tr style=\"text-align: right;\">\n",
       "      <th></th>\n",
       "      <th>Unnamed: 0</th>\n",
       "      <th>Brand</th>\n",
       "      <th>Model</th>\n",
       "      <th>Body</th>\n",
       "      <th>Color</th>\n",
       "      <th>Year</th>\n",
       "      <th>Fuel</th>\n",
       "      <th>Kilometers</th>\n",
       "      <th>Engine</th>\n",
       "      <th>Transmission</th>\n",
       "      <th>Price</th>\n",
       "      <th>Gov</th>\n",
       "    </tr>\n",
       "  </thead>\n",
       "  <tbody>\n",
       "    <tr>\n",
       "      <th>0</th>\n",
       "      <td>5337</td>\n",
       "      <td>Hyundai</td>\n",
       "      <td>Accent</td>\n",
       "      <td>Sedan</td>\n",
       "      <td>Black</td>\n",
       "      <td>2007</td>\n",
       "      <td>Benzine</td>\n",
       "      <td>140000 to 159999</td>\n",
       "      <td>1600 CC</td>\n",
       "      <td>Automatic</td>\n",
       "      <td>140.0</td>\n",
       "      <td>Giza</td>\n",
       "    </tr>\n",
       "    <tr>\n",
       "      <th>1</th>\n",
       "      <td>5338</td>\n",
       "      <td>Hyundai</td>\n",
       "      <td>Accent</td>\n",
       "      <td>Sedan</td>\n",
       "      <td>Silver</td>\n",
       "      <td>2005</td>\n",
       "      <td>Benzine</td>\n",
       "      <td>180000 to 199999</td>\n",
       "      <td>1000 - 1300 CC</td>\n",
       "      <td>Manual</td>\n",
       "      <td>78.0</td>\n",
       "      <td>Qena</td>\n",
       "    </tr>\n",
       "    <tr>\n",
       "      <th>2</th>\n",
       "      <td>5339</td>\n",
       "      <td>Hyundai</td>\n",
       "      <td>Accent</td>\n",
       "      <td>Sedan</td>\n",
       "      <td>Gray</td>\n",
       "      <td>1999</td>\n",
       "      <td>Benzine</td>\n",
       "      <td>140000 to 159999</td>\n",
       "      <td>1400 - 1500 CC</td>\n",
       "      <td>Manual</td>\n",
       "      <td>70.0</td>\n",
       "      <td>Giza</td>\n",
       "    </tr>\n",
       "    <tr>\n",
       "      <th>3</th>\n",
       "      <td>5340</td>\n",
       "      <td>Hyundai</td>\n",
       "      <td>Accent</td>\n",
       "      <td>Sedan</td>\n",
       "      <td>Blue- Navy Blue</td>\n",
       "      <td>2009</td>\n",
       "      <td>Benzine</td>\n",
       "      <td>140000 to 159999</td>\n",
       "      <td>1600 CC</td>\n",
       "      <td>Automatic</td>\n",
       "      <td>150.0</td>\n",
       "      <td>Cairo</td>\n",
       "    </tr>\n",
       "    <tr>\n",
       "      <th>4</th>\n",
       "      <td>5341</td>\n",
       "      <td>Hyundai</td>\n",
       "      <td>Accent</td>\n",
       "      <td>Sedan</td>\n",
       "      <td>Silver</td>\n",
       "      <td>2000</td>\n",
       "      <td>Benzine</td>\n",
       "      <td>10000 to 19999</td>\n",
       "      <td>1000 - 1300 CC</td>\n",
       "      <td>Manual</td>\n",
       "      <td>75.0</td>\n",
       "      <td>Giza</td>\n",
       "    </tr>\n",
       "  </tbody>\n",
       "</table>\n",
       "</div>"
      ],
      "text/plain": [
       "   Unnamed: 0    Brand   Model   Body            Color  Year     Fuel  \\\n",
       "0        5337  Hyundai  Accent  Sedan            Black  2007  Benzine   \n",
       "1        5338  Hyundai  Accent  Sedan           Silver  2005  Benzine   \n",
       "2        5339  Hyundai  Accent  Sedan             Gray  1999  Benzine   \n",
       "3        5340  Hyundai  Accent  Sedan  Blue- Navy Blue  2009  Benzine   \n",
       "4        5341  Hyundai  Accent  Sedan           Silver  2000  Benzine   \n",
       "\n",
       "         Kilometers          Engine Transmission  Price    Gov  \n",
       "0  140000 to 159999         1600 CC    Automatic  140.0   Giza  \n",
       "1  180000 to 199999  1000 - 1300 CC       Manual   78.0   Qena  \n",
       "2  140000 to 159999  1400 - 1500 CC       Manual   70.0   Giza  \n",
       "3  140000 to 159999         1600 CC    Automatic  150.0  Cairo  \n",
       "4    10000 to 19999  1000 - 1300 CC       Manual   75.0   Giza  "
      ]
     },
     "execution_count": 3,
     "metadata": {},
     "output_type": "execute_result"
    }
   ],
   "source": [
    "df.head()"
   ]
  },
  {
   "cell_type": "code",
   "execution_count": 4,
   "id": "381813f4",
   "metadata": {},
   "outputs": [
    {
     "name": "stdout",
     "output_type": "stream",
     "text": [
      "<class 'pandas.core.frame.DataFrame'>\n",
      "RangeIndex: 14741 entries, 0 to 14740\n",
      "Data columns (total 12 columns):\n",
      " #   Column        Non-Null Count  Dtype  \n",
      "---  ------        --------------  -----  \n",
      " 0   Unnamed: 0    14741 non-null  int64  \n",
      " 1   Brand         14741 non-null  object \n",
      " 2   Model         14741 non-null  object \n",
      " 3   Body          14741 non-null  object \n",
      " 4   Color         14741 non-null  object \n",
      " 5   Year          14741 non-null  int64  \n",
      " 6   Fuel          14741 non-null  object \n",
      " 7   Kilometers    14741 non-null  object \n",
      " 8   Engine        14741 non-null  object \n",
      " 9   Transmission  14741 non-null  object \n",
      " 10  Price         14741 non-null  float64\n",
      " 11  Gov           14741 non-null  object \n",
      "dtypes: float64(1), int64(2), object(9)\n",
      "memory usage: 1.3+ MB\n"
     ]
    }
   ],
   "source": [
    "df.info()"
   ]
  },
  {
   "cell_type": "code",
   "execution_count": 5,
   "id": "b78e00c3",
   "metadata": {},
   "outputs": [
    {
     "data": {
      "text/html": [
       "<div>\n",
       "<style scoped>\n",
       "    .dataframe tbody tr th:only-of-type {\n",
       "        vertical-align: middle;\n",
       "    }\n",
       "\n",
       "    .dataframe tbody tr th {\n",
       "        vertical-align: top;\n",
       "    }\n",
       "\n",
       "    .dataframe thead th {\n",
       "        text-align: right;\n",
       "    }\n",
       "</style>\n",
       "<table border=\"1\" class=\"dataframe\">\n",
       "  <thead>\n",
       "    <tr style=\"text-align: right;\">\n",
       "      <th></th>\n",
       "      <th>Unnamed: 0</th>\n",
       "      <th>Year</th>\n",
       "      <th>Price</th>\n",
       "    </tr>\n",
       "  </thead>\n",
       "  <tbody>\n",
       "    <tr>\n",
       "      <th>count</th>\n",
       "      <td>14741.000000</td>\n",
       "      <td>14741.000000</td>\n",
       "      <td>14741.000000</td>\n",
       "    </tr>\n",
       "    <tr>\n",
       "      <th>mean</th>\n",
       "      <td>8934.846754</td>\n",
       "      <td>2005.456821</td>\n",
       "      <td>116.584987</td>\n",
       "    </tr>\n",
       "    <tr>\n",
       "      <th>std</th>\n",
       "      <td>4922.065495</td>\n",
       "      <td>12.655566</td>\n",
       "      <td>82.192718</td>\n",
       "    </tr>\n",
       "    <tr>\n",
       "      <th>min</th>\n",
       "      <td>812.000000</td>\n",
       "      <td>1970.000000</td>\n",
       "      <td>3.000000</td>\n",
       "    </tr>\n",
       "    <tr>\n",
       "      <th>25%</th>\n",
       "      <td>4497.000000</td>\n",
       "      <td>1998.000000</td>\n",
       "      <td>43.700000</td>\n",
       "    </tr>\n",
       "    <tr>\n",
       "      <th>50%</th>\n",
       "      <td>8182.000000</td>\n",
       "      <td>2010.000000</td>\n",
       "      <td>110.000000</td>\n",
       "    </tr>\n",
       "    <tr>\n",
       "      <th>75%</th>\n",
       "      <td>13373.000000</td>\n",
       "      <td>2015.000000</td>\n",
       "      <td>161.000000</td>\n",
       "    </tr>\n",
       "    <tr>\n",
       "      <th>max</th>\n",
       "      <td>17058.000000</td>\n",
       "      <td>2022.000000</td>\n",
       "      <td>471.500000</td>\n",
       "    </tr>\n",
       "  </tbody>\n",
       "</table>\n",
       "</div>"
      ],
      "text/plain": [
       "         Unnamed: 0          Year         Price\n",
       "count  14741.000000  14741.000000  14741.000000\n",
       "mean    8934.846754   2005.456821    116.584987\n",
       "std     4922.065495     12.655566     82.192718\n",
       "min      812.000000   1970.000000      3.000000\n",
       "25%     4497.000000   1998.000000     43.700000\n",
       "50%     8182.000000   2010.000000    110.000000\n",
       "75%    13373.000000   2015.000000    161.000000\n",
       "max    17058.000000   2022.000000    471.500000"
      ]
     },
     "execution_count": 5,
     "metadata": {},
     "output_type": "execute_result"
    }
   ],
   "source": [
    "df.describe()"
   ]
  },
  {
   "cell_type": "markdown",
   "id": "fad84d47",
   "metadata": {},
   "source": [
    "### Preprocessing"
   ]
  },
  {
   "cell_type": "code",
   "execution_count": 6,
   "id": "ecb080a4",
   "metadata": {},
   "outputs": [
    {
     "data": {
      "text/plain": [
       "0"
      ]
     },
     "execution_count": 6,
     "metadata": {},
     "output_type": "execute_result"
    }
   ],
   "source": [
    "df.duplicated().sum()"
   ]
  },
  {
   "cell_type": "code",
   "execution_count": 7,
   "id": "3d21d9f9",
   "metadata": {
    "scrolled": false
   },
   "outputs": [
    {
     "data": {
      "text/plain": [
       "array(['140000 to 159999', '180000 to 199999', '10000 to 19999',\n",
       "       'More than 200000', '90000 to 99999', '100000 to 119999',\n",
       "       '160000 to 179999', '120000 to 139999', '0 to 9999',\n",
       "       '20000 to 29999', '30000 to 39999', '80000 to 89999',\n",
       "       '60000 to 69999', '70000 to 79999', '40000 to 49999',\n",
       "       '50000 to 59999'], dtype=object)"
      ]
     },
     "execution_count": 7,
     "metadata": {},
     "output_type": "execute_result"
    }
   ],
   "source": [
    "df['Kilometers'].unique()"
   ]
  },
  {
   "cell_type": "code",
   "execution_count": 8,
   "id": "09a2c0f7",
   "metadata": {},
   "outputs": [],
   "source": [
    "kilo = df['Kilometers'].str.split(' to ', expand = True)"
   ]
  },
  {
   "cell_type": "code",
   "execution_count": 9,
   "id": "3fc50591",
   "metadata": {
    "scrolled": true
   },
   "outputs": [
    {
     "data": {
      "text/plain": [
       "array(['140000', '180000', '10000', 'More than 200000', '90000', '100000',\n",
       "       '160000', '120000', '0', '20000', '30000', '80000', '60000',\n",
       "       '70000', '40000', '50000'], dtype=object)"
      ]
     },
     "execution_count": 9,
     "metadata": {},
     "output_type": "execute_result"
    }
   ],
   "source": [
    "kilo[0].unique()"
   ]
  },
  {
   "cell_type": "code",
   "execution_count": 10,
   "id": "69266ba0",
   "metadata": {},
   "outputs": [
    {
     "data": {
      "text/plain": [
       "array(['159999', '199999', '19999', None, '99999', '119999', '179999',\n",
       "       '139999', '9999', '29999', '39999', '89999', '69999', '79999',\n",
       "       '49999', '59999'], dtype=object)"
      ]
     },
     "execution_count": 10,
     "metadata": {},
     "output_type": "execute_result"
    }
   ],
   "source": [
    "kilo[1].unique()"
   ]
  },
  {
   "cell_type": "code",
   "execution_count": 11,
   "id": "430a9e0b",
   "metadata": {},
   "outputs": [],
   "source": [
    "df['min_kilometers'] = kilo[0]"
   ]
  },
  {
   "cell_type": "code",
   "execution_count": 12,
   "id": "f4117f9f",
   "metadata": {},
   "outputs": [],
   "source": [
    "df['max_kilometers'] = kilo[1]"
   ]
  },
  {
   "cell_type": "code",
   "execution_count": 13,
   "id": "02d1dea3",
   "metadata": {},
   "outputs": [
    {
     "data": {
      "text/html": [
       "<div>\n",
       "<style scoped>\n",
       "    .dataframe tbody tr th:only-of-type {\n",
       "        vertical-align: middle;\n",
       "    }\n",
       "\n",
       "    .dataframe tbody tr th {\n",
       "        vertical-align: top;\n",
       "    }\n",
       "\n",
       "    .dataframe thead th {\n",
       "        text-align: right;\n",
       "    }\n",
       "</style>\n",
       "<table border=\"1\" class=\"dataframe\">\n",
       "  <thead>\n",
       "    <tr style=\"text-align: right;\">\n",
       "      <th></th>\n",
       "      <th>Unnamed: 0</th>\n",
       "      <th>Brand</th>\n",
       "      <th>Model</th>\n",
       "      <th>Body</th>\n",
       "      <th>Color</th>\n",
       "      <th>Year</th>\n",
       "      <th>Fuel</th>\n",
       "      <th>Kilometers</th>\n",
       "      <th>Engine</th>\n",
       "      <th>Transmission</th>\n",
       "      <th>Price</th>\n",
       "      <th>Gov</th>\n",
       "      <th>min_kilometers</th>\n",
       "      <th>max_kilometers</th>\n",
       "    </tr>\n",
       "  </thead>\n",
       "  <tbody>\n",
       "    <tr>\n",
       "      <th>0</th>\n",
       "      <td>5337</td>\n",
       "      <td>Hyundai</td>\n",
       "      <td>Accent</td>\n",
       "      <td>Sedan</td>\n",
       "      <td>Black</td>\n",
       "      <td>2007</td>\n",
       "      <td>Benzine</td>\n",
       "      <td>140000 to 159999</td>\n",
       "      <td>1600 CC</td>\n",
       "      <td>Automatic</td>\n",
       "      <td>140.0</td>\n",
       "      <td>Giza</td>\n",
       "      <td>140000</td>\n",
       "      <td>159999</td>\n",
       "    </tr>\n",
       "    <tr>\n",
       "      <th>1</th>\n",
       "      <td>5338</td>\n",
       "      <td>Hyundai</td>\n",
       "      <td>Accent</td>\n",
       "      <td>Sedan</td>\n",
       "      <td>Silver</td>\n",
       "      <td>2005</td>\n",
       "      <td>Benzine</td>\n",
       "      <td>180000 to 199999</td>\n",
       "      <td>1000 - 1300 CC</td>\n",
       "      <td>Manual</td>\n",
       "      <td>78.0</td>\n",
       "      <td>Qena</td>\n",
       "      <td>180000</td>\n",
       "      <td>199999</td>\n",
       "    </tr>\n",
       "    <tr>\n",
       "      <th>2</th>\n",
       "      <td>5339</td>\n",
       "      <td>Hyundai</td>\n",
       "      <td>Accent</td>\n",
       "      <td>Sedan</td>\n",
       "      <td>Gray</td>\n",
       "      <td>1999</td>\n",
       "      <td>Benzine</td>\n",
       "      <td>140000 to 159999</td>\n",
       "      <td>1400 - 1500 CC</td>\n",
       "      <td>Manual</td>\n",
       "      <td>70.0</td>\n",
       "      <td>Giza</td>\n",
       "      <td>140000</td>\n",
       "      <td>159999</td>\n",
       "    </tr>\n",
       "    <tr>\n",
       "      <th>3</th>\n",
       "      <td>5340</td>\n",
       "      <td>Hyundai</td>\n",
       "      <td>Accent</td>\n",
       "      <td>Sedan</td>\n",
       "      <td>Blue- Navy Blue</td>\n",
       "      <td>2009</td>\n",
       "      <td>Benzine</td>\n",
       "      <td>140000 to 159999</td>\n",
       "      <td>1600 CC</td>\n",
       "      <td>Automatic</td>\n",
       "      <td>150.0</td>\n",
       "      <td>Cairo</td>\n",
       "      <td>140000</td>\n",
       "      <td>159999</td>\n",
       "    </tr>\n",
       "    <tr>\n",
       "      <th>4</th>\n",
       "      <td>5341</td>\n",
       "      <td>Hyundai</td>\n",
       "      <td>Accent</td>\n",
       "      <td>Sedan</td>\n",
       "      <td>Silver</td>\n",
       "      <td>2000</td>\n",
       "      <td>Benzine</td>\n",
       "      <td>10000 to 19999</td>\n",
       "      <td>1000 - 1300 CC</td>\n",
       "      <td>Manual</td>\n",
       "      <td>75.0</td>\n",
       "      <td>Giza</td>\n",
       "      <td>10000</td>\n",
       "      <td>19999</td>\n",
       "    </tr>\n",
       "  </tbody>\n",
       "</table>\n",
       "</div>"
      ],
      "text/plain": [
       "   Unnamed: 0    Brand   Model   Body            Color  Year     Fuel  \\\n",
       "0        5337  Hyundai  Accent  Sedan            Black  2007  Benzine   \n",
       "1        5338  Hyundai  Accent  Sedan           Silver  2005  Benzine   \n",
       "2        5339  Hyundai  Accent  Sedan             Gray  1999  Benzine   \n",
       "3        5340  Hyundai  Accent  Sedan  Blue- Navy Blue  2009  Benzine   \n",
       "4        5341  Hyundai  Accent  Sedan           Silver  2000  Benzine   \n",
       "\n",
       "         Kilometers          Engine Transmission  Price    Gov min_kilometers  \\\n",
       "0  140000 to 159999         1600 CC    Automatic  140.0   Giza         140000   \n",
       "1  180000 to 199999  1000 - 1300 CC       Manual   78.0   Qena         180000   \n",
       "2  140000 to 159999  1400 - 1500 CC       Manual   70.0   Giza         140000   \n",
       "3  140000 to 159999         1600 CC    Automatic  150.0  Cairo         140000   \n",
       "4    10000 to 19999  1000 - 1300 CC       Manual   75.0   Giza          10000   \n",
       "\n",
       "  max_kilometers  \n",
       "0         159999  \n",
       "1         199999  \n",
       "2         159999  \n",
       "3         159999  \n",
       "4          19999  "
      ]
     },
     "execution_count": 13,
     "metadata": {},
     "output_type": "execute_result"
    }
   ],
   "source": [
    "df.head()"
   ]
  },
  {
   "cell_type": "code",
   "execution_count": 14,
   "id": "0886a254",
   "metadata": {},
   "outputs": [],
   "source": [
    "df['min_kilometers'] = df['min_kilometers'].replace('More than 200000', '200000', regex = True)"
   ]
  },
  {
   "cell_type": "code",
   "execution_count": 15,
   "id": "98611dd8",
   "metadata": {},
   "outputs": [
    {
     "data": {
      "text/plain": [
       "0        140000\n",
       "1        180000\n",
       "2        140000\n",
       "3        140000\n",
       "4         10000\n",
       "          ...  \n",
       "14736    160000\n",
       "14737     20000\n",
       "14738     10000\n",
       "14739     10000\n",
       "14740     30000\n",
       "Name: min_kilometers, Length: 14741, dtype: int32"
      ]
     },
     "execution_count": 15,
     "metadata": {},
     "output_type": "execute_result"
    }
   ],
   "source": [
    "df['min_kilometers'].astype(int)"
   ]
  },
  {
   "cell_type": "code",
   "execution_count": 16,
   "id": "6f6e3b0c",
   "metadata": {},
   "outputs": [
    {
     "data": {
      "text/html": [
       "<div>\n",
       "<style scoped>\n",
       "    .dataframe tbody tr th:only-of-type {\n",
       "        vertical-align: middle;\n",
       "    }\n",
       "\n",
       "    .dataframe tbody tr th {\n",
       "        vertical-align: top;\n",
       "    }\n",
       "\n",
       "    .dataframe thead th {\n",
       "        text-align: right;\n",
       "    }\n",
       "</style>\n",
       "<table border=\"1\" class=\"dataframe\">\n",
       "  <thead>\n",
       "    <tr style=\"text-align: right;\">\n",
       "      <th></th>\n",
       "      <th>Unnamed: 0</th>\n",
       "      <th>Year</th>\n",
       "      <th>Price</th>\n",
       "    </tr>\n",
       "  </thead>\n",
       "  <tbody>\n",
       "    <tr>\n",
       "      <th>count</th>\n",
       "      <td>14741.000000</td>\n",
       "      <td>14741.000000</td>\n",
       "      <td>14741.000000</td>\n",
       "    </tr>\n",
       "    <tr>\n",
       "      <th>mean</th>\n",
       "      <td>8934.846754</td>\n",
       "      <td>2005.456821</td>\n",
       "      <td>116.584987</td>\n",
       "    </tr>\n",
       "    <tr>\n",
       "      <th>std</th>\n",
       "      <td>4922.065495</td>\n",
       "      <td>12.655566</td>\n",
       "      <td>82.192718</td>\n",
       "    </tr>\n",
       "    <tr>\n",
       "      <th>min</th>\n",
       "      <td>812.000000</td>\n",
       "      <td>1970.000000</td>\n",
       "      <td>3.000000</td>\n",
       "    </tr>\n",
       "    <tr>\n",
       "      <th>25%</th>\n",
       "      <td>4497.000000</td>\n",
       "      <td>1998.000000</td>\n",
       "      <td>43.700000</td>\n",
       "    </tr>\n",
       "    <tr>\n",
       "      <th>50%</th>\n",
       "      <td>8182.000000</td>\n",
       "      <td>2010.000000</td>\n",
       "      <td>110.000000</td>\n",
       "    </tr>\n",
       "    <tr>\n",
       "      <th>75%</th>\n",
       "      <td>13373.000000</td>\n",
       "      <td>2015.000000</td>\n",
       "      <td>161.000000</td>\n",
       "    </tr>\n",
       "    <tr>\n",
       "      <th>max</th>\n",
       "      <td>17058.000000</td>\n",
       "      <td>2022.000000</td>\n",
       "      <td>471.500000</td>\n",
       "    </tr>\n",
       "  </tbody>\n",
       "</table>\n",
       "</div>"
      ],
      "text/plain": [
       "         Unnamed: 0          Year         Price\n",
       "count  14741.000000  14741.000000  14741.000000\n",
       "mean    8934.846754   2005.456821    116.584987\n",
       "std     4922.065495     12.655566     82.192718\n",
       "min      812.000000   1970.000000      3.000000\n",
       "25%     4497.000000   1998.000000     43.700000\n",
       "50%     8182.000000   2010.000000    110.000000\n",
       "75%    13373.000000   2015.000000    161.000000\n",
       "max    17058.000000   2022.000000    471.500000"
      ]
     },
     "execution_count": 16,
     "metadata": {},
     "output_type": "execute_result"
    }
   ],
   "source": [
    "df.describe()"
   ]
  },
  {
   "cell_type": "code",
   "execution_count": 17,
   "id": "5b55c74c",
   "metadata": {},
   "outputs": [],
   "source": [
    "index = df[df['min_kilometers']=='200000'].index"
   ]
  },
  {
   "cell_type": "code",
   "execution_count": 18,
   "id": "efbcbf1e",
   "metadata": {},
   "outputs": [
    {
     "data": {
      "text/html": [
       "<div>\n",
       "<style scoped>\n",
       "    .dataframe tbody tr th:only-of-type {\n",
       "        vertical-align: middle;\n",
       "    }\n",
       "\n",
       "    .dataframe tbody tr th {\n",
       "        vertical-align: top;\n",
       "    }\n",
       "\n",
       "    .dataframe thead th {\n",
       "        text-align: right;\n",
       "    }\n",
       "</style>\n",
       "<table border=\"1\" class=\"dataframe\">\n",
       "  <thead>\n",
       "    <tr style=\"text-align: right;\">\n",
       "      <th></th>\n",
       "      <th>Unnamed: 0</th>\n",
       "      <th>Brand</th>\n",
       "      <th>Model</th>\n",
       "      <th>Body</th>\n",
       "      <th>Color</th>\n",
       "      <th>Year</th>\n",
       "      <th>Fuel</th>\n",
       "      <th>Kilometers</th>\n",
       "      <th>Engine</th>\n",
       "      <th>Transmission</th>\n",
       "      <th>Price</th>\n",
       "      <th>Gov</th>\n",
       "      <th>min_kilometers</th>\n",
       "      <th>max_kilometers</th>\n",
       "    </tr>\n",
       "  </thead>\n",
       "  <tbody>\n",
       "    <tr>\n",
       "      <th>5</th>\n",
       "      <td>5342</td>\n",
       "      <td>Hyundai</td>\n",
       "      <td>Accent</td>\n",
       "      <td>Sedan</td>\n",
       "      <td>Green</td>\n",
       "      <td>2000</td>\n",
       "      <td>Benzine</td>\n",
       "      <td>More than 200000</td>\n",
       "      <td>1000 - 1300 CC</td>\n",
       "      <td>Manual</td>\n",
       "      <td>57.0</td>\n",
       "      <td>Cairo</td>\n",
       "      <td>200000</td>\n",
       "      <td>None</td>\n",
       "    </tr>\n",
       "    <tr>\n",
       "      <th>14</th>\n",
       "      <td>5351</td>\n",
       "      <td>Hyundai</td>\n",
       "      <td>Accent</td>\n",
       "      <td>Sedan</td>\n",
       "      <td>Other Color</td>\n",
       "      <td>2001</td>\n",
       "      <td>Benzine</td>\n",
       "      <td>More than 200000</td>\n",
       "      <td>1000 - 1300 CC</td>\n",
       "      <td>Manual</td>\n",
       "      <td>67.0</td>\n",
       "      <td>Suez</td>\n",
       "      <td>200000</td>\n",
       "      <td>None</td>\n",
       "    </tr>\n",
       "    <tr>\n",
       "      <th>18</th>\n",
       "      <td>5355</td>\n",
       "      <td>Hyundai</td>\n",
       "      <td>Accent</td>\n",
       "      <td>Sedan</td>\n",
       "      <td>Gray</td>\n",
       "      <td>1996</td>\n",
       "      <td>Benzine</td>\n",
       "      <td>More than 200000</td>\n",
       "      <td>1600 CC</td>\n",
       "      <td>Manual</td>\n",
       "      <td>75.0</td>\n",
       "      <td>Alexandria</td>\n",
       "      <td>200000</td>\n",
       "      <td>None</td>\n",
       "    </tr>\n",
       "    <tr>\n",
       "      <th>19</th>\n",
       "      <td>5356</td>\n",
       "      <td>Hyundai</td>\n",
       "      <td>Accent</td>\n",
       "      <td>Sedan</td>\n",
       "      <td>Silver</td>\n",
       "      <td>2008</td>\n",
       "      <td>Benzine</td>\n",
       "      <td>More than 200000</td>\n",
       "      <td>1400 - 1500 CC</td>\n",
       "      <td>Manual</td>\n",
       "      <td>130.0</td>\n",
       "      <td>Minya</td>\n",
       "      <td>200000</td>\n",
       "      <td>None</td>\n",
       "    </tr>\n",
       "    <tr>\n",
       "      <th>21</th>\n",
       "      <td>5358</td>\n",
       "      <td>Hyundai</td>\n",
       "      <td>Accent</td>\n",
       "      <td>Sedan</td>\n",
       "      <td>Gold</td>\n",
       "      <td>2005</td>\n",
       "      <td>Benzine</td>\n",
       "      <td>More than 200000</td>\n",
       "      <td>1400 - 1500 CC</td>\n",
       "      <td>Manual</td>\n",
       "      <td>69.0</td>\n",
       "      <td>Kafr al-Sheikh</td>\n",
       "      <td>200000</td>\n",
       "      <td>None</td>\n",
       "    </tr>\n",
       "    <tr>\n",
       "      <th>...</th>\n",
       "      <td>...</td>\n",
       "      <td>...</td>\n",
       "      <td>...</td>\n",
       "      <td>...</td>\n",
       "      <td>...</td>\n",
       "      <td>...</td>\n",
       "      <td>...</td>\n",
       "      <td>...</td>\n",
       "      <td>...</td>\n",
       "      <td>...</td>\n",
       "      <td>...</td>\n",
       "      <td>...</td>\n",
       "      <td>...</td>\n",
       "      <td>...</td>\n",
       "    </tr>\n",
       "    <tr>\n",
       "      <th>14693</th>\n",
       "      <td>14166</td>\n",
       "      <td>Fiat</td>\n",
       "      <td>Uno</td>\n",
       "      <td>Hatchback</td>\n",
       "      <td>Silver</td>\n",
       "      <td>2004</td>\n",
       "      <td>Benzine</td>\n",
       "      <td>More than 200000</td>\n",
       "      <td>1000 - 1300 CC</td>\n",
       "      <td>Manual</td>\n",
       "      <td>51.8</td>\n",
       "      <td>Giza</td>\n",
       "      <td>200000</td>\n",
       "      <td>None</td>\n",
       "    </tr>\n",
       "    <tr>\n",
       "      <th>14694</th>\n",
       "      <td>14167</td>\n",
       "      <td>Fiat</td>\n",
       "      <td>Uno</td>\n",
       "      <td>Hatchback</td>\n",
       "      <td>Red</td>\n",
       "      <td>2000</td>\n",
       "      <td>Benzine</td>\n",
       "      <td>More than 200000</td>\n",
       "      <td>1000 - 1300 CC</td>\n",
       "      <td>Manual</td>\n",
       "      <td>57.5</td>\n",
       "      <td>Damietta</td>\n",
       "      <td>200000</td>\n",
       "      <td>None</td>\n",
       "    </tr>\n",
       "    <tr>\n",
       "      <th>14697</th>\n",
       "      <td>14170</td>\n",
       "      <td>Fiat</td>\n",
       "      <td>Uno</td>\n",
       "      <td>Hatchback</td>\n",
       "      <td>Blue- Navy Blue</td>\n",
       "      <td>2001</td>\n",
       "      <td>Benzine</td>\n",
       "      <td>More than 200000</td>\n",
       "      <td>1000 - 1300 CC</td>\n",
       "      <td>Manual</td>\n",
       "      <td>51.8</td>\n",
       "      <td>Alexandria</td>\n",
       "      <td>200000</td>\n",
       "      <td>None</td>\n",
       "    </tr>\n",
       "    <tr>\n",
       "      <th>14704</th>\n",
       "      <td>14177</td>\n",
       "      <td>Fiat</td>\n",
       "      <td>Uno</td>\n",
       "      <td>Hatchback</td>\n",
       "      <td>Silver</td>\n",
       "      <td>2001</td>\n",
       "      <td>Benzine</td>\n",
       "      <td>More than 200000</td>\n",
       "      <td>1000 - 1300 CC</td>\n",
       "      <td>Manual</td>\n",
       "      <td>51.8</td>\n",
       "      <td>Damietta</td>\n",
       "      <td>200000</td>\n",
       "      <td>None</td>\n",
       "    </tr>\n",
       "    <tr>\n",
       "      <th>14709</th>\n",
       "      <td>14182</td>\n",
       "      <td>Fiat</td>\n",
       "      <td>Uno</td>\n",
       "      <td>Hatchback</td>\n",
       "      <td>Green</td>\n",
       "      <td>1997</td>\n",
       "      <td>Benzine</td>\n",
       "      <td>More than 200000</td>\n",
       "      <td>1000 - 1300 CC</td>\n",
       "      <td>Manual</td>\n",
       "      <td>51.8</td>\n",
       "      <td>Cairo</td>\n",
       "      <td>200000</td>\n",
       "      <td>None</td>\n",
       "    </tr>\n",
       "  </tbody>\n",
       "</table>\n",
       "<p>2505 rows × 14 columns</p>\n",
       "</div>"
      ],
      "text/plain": [
       "       Unnamed: 0    Brand   Model       Body            Color  Year     Fuel  \\\n",
       "5            5342  Hyundai  Accent      Sedan            Green  2000  Benzine   \n",
       "14           5351  Hyundai  Accent      Sedan      Other Color  2001  Benzine   \n",
       "18           5355  Hyundai  Accent      Sedan             Gray  1996  Benzine   \n",
       "19           5356  Hyundai  Accent      Sedan           Silver  2008  Benzine   \n",
       "21           5358  Hyundai  Accent      Sedan             Gold  2005  Benzine   \n",
       "...           ...      ...     ...        ...              ...   ...      ...   \n",
       "14693       14166     Fiat     Uno  Hatchback           Silver  2004  Benzine   \n",
       "14694       14167     Fiat     Uno  Hatchback              Red  2000  Benzine   \n",
       "14697       14170     Fiat     Uno  Hatchback  Blue- Navy Blue  2001  Benzine   \n",
       "14704       14177     Fiat     Uno  Hatchback           Silver  2001  Benzine   \n",
       "14709       14182     Fiat     Uno  Hatchback            Green  1997  Benzine   \n",
       "\n",
       "             Kilometers          Engine Transmission  Price             Gov  \\\n",
       "5      More than 200000  1000 - 1300 CC       Manual   57.0           Cairo   \n",
       "14     More than 200000  1000 - 1300 CC       Manual   67.0            Suez   \n",
       "18     More than 200000         1600 CC       Manual   75.0      Alexandria   \n",
       "19     More than 200000  1400 - 1500 CC       Manual  130.0           Minya   \n",
       "21     More than 200000  1400 - 1500 CC       Manual   69.0  Kafr al-Sheikh   \n",
       "...                 ...             ...          ...    ...             ...   \n",
       "14693  More than 200000  1000 - 1300 CC       Manual   51.8            Giza   \n",
       "14694  More than 200000  1000 - 1300 CC       Manual   57.5        Damietta   \n",
       "14697  More than 200000  1000 - 1300 CC       Manual   51.8      Alexandria   \n",
       "14704  More than 200000  1000 - 1300 CC       Manual   51.8        Damietta   \n",
       "14709  More than 200000  1000 - 1300 CC       Manual   51.8           Cairo   \n",
       "\n",
       "      min_kilometers max_kilometers  \n",
       "5             200000           None  \n",
       "14            200000           None  \n",
       "18            200000           None  \n",
       "19            200000           None  \n",
       "21            200000           None  \n",
       "...              ...            ...  \n",
       "14693         200000           None  \n",
       "14694         200000           None  \n",
       "14697         200000           None  \n",
       "14704         200000           None  \n",
       "14709         200000           None  \n",
       "\n",
       "[2505 rows x 14 columns]"
      ]
     },
     "execution_count": 18,
     "metadata": {},
     "output_type": "execute_result"
    }
   ],
   "source": [
    "df.iloc[index]"
   ]
  },
  {
   "cell_type": "code",
   "execution_count": 19,
   "id": "0d8dc5b4",
   "metadata": {},
   "outputs": [
    {
     "data": {
      "text/plain": [
       "array(['159999', '199999', '19999', None, '99999', '119999', '179999',\n",
       "       '139999', '9999', '29999', '39999', '89999', '69999', '79999',\n",
       "       '49999', '59999'], dtype=object)"
      ]
     },
     "execution_count": 19,
     "metadata": {},
     "output_type": "execute_result"
    }
   ],
   "source": [
    "df['max_kilometers'].unique()"
   ]
  },
  {
   "cell_type": "code",
   "execution_count": 20,
   "id": "d7e0d4af",
   "metadata": {},
   "outputs": [],
   "source": [
    "df = df.fillna(value = '300000')"
   ]
  },
  {
   "cell_type": "code",
   "execution_count": 21,
   "id": "8fd7f45c",
   "metadata": {},
   "outputs": [
    {
     "data": {
      "text/html": [
       "<div>\n",
       "<style scoped>\n",
       "    .dataframe tbody tr th:only-of-type {\n",
       "        vertical-align: middle;\n",
       "    }\n",
       "\n",
       "    .dataframe tbody tr th {\n",
       "        vertical-align: top;\n",
       "    }\n",
       "\n",
       "    .dataframe thead th {\n",
       "        text-align: right;\n",
       "    }\n",
       "</style>\n",
       "<table border=\"1\" class=\"dataframe\">\n",
       "  <thead>\n",
       "    <tr style=\"text-align: right;\">\n",
       "      <th></th>\n",
       "      <th>Unnamed: 0</th>\n",
       "      <th>Brand</th>\n",
       "      <th>Model</th>\n",
       "      <th>Body</th>\n",
       "      <th>Color</th>\n",
       "      <th>Year</th>\n",
       "      <th>Fuel</th>\n",
       "      <th>Kilometers</th>\n",
       "      <th>Engine</th>\n",
       "      <th>Transmission</th>\n",
       "      <th>Price</th>\n",
       "      <th>Gov</th>\n",
       "      <th>min_kilometers</th>\n",
       "      <th>max_kilometers</th>\n",
       "    </tr>\n",
       "  </thead>\n",
       "  <tbody>\n",
       "    <tr>\n",
       "      <th>5</th>\n",
       "      <td>5342</td>\n",
       "      <td>Hyundai</td>\n",
       "      <td>Accent</td>\n",
       "      <td>Sedan</td>\n",
       "      <td>Green</td>\n",
       "      <td>2000</td>\n",
       "      <td>Benzine</td>\n",
       "      <td>More than 200000</td>\n",
       "      <td>1000 - 1300 CC</td>\n",
       "      <td>Manual</td>\n",
       "      <td>57.0</td>\n",
       "      <td>Cairo</td>\n",
       "      <td>200000</td>\n",
       "      <td>300000</td>\n",
       "    </tr>\n",
       "    <tr>\n",
       "      <th>14</th>\n",
       "      <td>5351</td>\n",
       "      <td>Hyundai</td>\n",
       "      <td>Accent</td>\n",
       "      <td>Sedan</td>\n",
       "      <td>Other Color</td>\n",
       "      <td>2001</td>\n",
       "      <td>Benzine</td>\n",
       "      <td>More than 200000</td>\n",
       "      <td>1000 - 1300 CC</td>\n",
       "      <td>Manual</td>\n",
       "      <td>67.0</td>\n",
       "      <td>Suez</td>\n",
       "      <td>200000</td>\n",
       "      <td>300000</td>\n",
       "    </tr>\n",
       "    <tr>\n",
       "      <th>18</th>\n",
       "      <td>5355</td>\n",
       "      <td>Hyundai</td>\n",
       "      <td>Accent</td>\n",
       "      <td>Sedan</td>\n",
       "      <td>Gray</td>\n",
       "      <td>1996</td>\n",
       "      <td>Benzine</td>\n",
       "      <td>More than 200000</td>\n",
       "      <td>1600 CC</td>\n",
       "      <td>Manual</td>\n",
       "      <td>75.0</td>\n",
       "      <td>Alexandria</td>\n",
       "      <td>200000</td>\n",
       "      <td>300000</td>\n",
       "    </tr>\n",
       "    <tr>\n",
       "      <th>19</th>\n",
       "      <td>5356</td>\n",
       "      <td>Hyundai</td>\n",
       "      <td>Accent</td>\n",
       "      <td>Sedan</td>\n",
       "      <td>Silver</td>\n",
       "      <td>2008</td>\n",
       "      <td>Benzine</td>\n",
       "      <td>More than 200000</td>\n",
       "      <td>1400 - 1500 CC</td>\n",
       "      <td>Manual</td>\n",
       "      <td>130.0</td>\n",
       "      <td>Minya</td>\n",
       "      <td>200000</td>\n",
       "      <td>300000</td>\n",
       "    </tr>\n",
       "    <tr>\n",
       "      <th>21</th>\n",
       "      <td>5358</td>\n",
       "      <td>Hyundai</td>\n",
       "      <td>Accent</td>\n",
       "      <td>Sedan</td>\n",
       "      <td>Gold</td>\n",
       "      <td>2005</td>\n",
       "      <td>Benzine</td>\n",
       "      <td>More than 200000</td>\n",
       "      <td>1400 - 1500 CC</td>\n",
       "      <td>Manual</td>\n",
       "      <td>69.0</td>\n",
       "      <td>Kafr al-Sheikh</td>\n",
       "      <td>200000</td>\n",
       "      <td>300000</td>\n",
       "    </tr>\n",
       "    <tr>\n",
       "      <th>...</th>\n",
       "      <td>...</td>\n",
       "      <td>...</td>\n",
       "      <td>...</td>\n",
       "      <td>...</td>\n",
       "      <td>...</td>\n",
       "      <td>...</td>\n",
       "      <td>...</td>\n",
       "      <td>...</td>\n",
       "      <td>...</td>\n",
       "      <td>...</td>\n",
       "      <td>...</td>\n",
       "      <td>...</td>\n",
       "      <td>...</td>\n",
       "      <td>...</td>\n",
       "    </tr>\n",
       "    <tr>\n",
       "      <th>14693</th>\n",
       "      <td>14166</td>\n",
       "      <td>Fiat</td>\n",
       "      <td>Uno</td>\n",
       "      <td>Hatchback</td>\n",
       "      <td>Silver</td>\n",
       "      <td>2004</td>\n",
       "      <td>Benzine</td>\n",
       "      <td>More than 200000</td>\n",
       "      <td>1000 - 1300 CC</td>\n",
       "      <td>Manual</td>\n",
       "      <td>51.8</td>\n",
       "      <td>Giza</td>\n",
       "      <td>200000</td>\n",
       "      <td>300000</td>\n",
       "    </tr>\n",
       "    <tr>\n",
       "      <th>14694</th>\n",
       "      <td>14167</td>\n",
       "      <td>Fiat</td>\n",
       "      <td>Uno</td>\n",
       "      <td>Hatchback</td>\n",
       "      <td>Red</td>\n",
       "      <td>2000</td>\n",
       "      <td>Benzine</td>\n",
       "      <td>More than 200000</td>\n",
       "      <td>1000 - 1300 CC</td>\n",
       "      <td>Manual</td>\n",
       "      <td>57.5</td>\n",
       "      <td>Damietta</td>\n",
       "      <td>200000</td>\n",
       "      <td>300000</td>\n",
       "    </tr>\n",
       "    <tr>\n",
       "      <th>14697</th>\n",
       "      <td>14170</td>\n",
       "      <td>Fiat</td>\n",
       "      <td>Uno</td>\n",
       "      <td>Hatchback</td>\n",
       "      <td>Blue- Navy Blue</td>\n",
       "      <td>2001</td>\n",
       "      <td>Benzine</td>\n",
       "      <td>More than 200000</td>\n",
       "      <td>1000 - 1300 CC</td>\n",
       "      <td>Manual</td>\n",
       "      <td>51.8</td>\n",
       "      <td>Alexandria</td>\n",
       "      <td>200000</td>\n",
       "      <td>300000</td>\n",
       "    </tr>\n",
       "    <tr>\n",
       "      <th>14704</th>\n",
       "      <td>14177</td>\n",
       "      <td>Fiat</td>\n",
       "      <td>Uno</td>\n",
       "      <td>Hatchback</td>\n",
       "      <td>Silver</td>\n",
       "      <td>2001</td>\n",
       "      <td>Benzine</td>\n",
       "      <td>More than 200000</td>\n",
       "      <td>1000 - 1300 CC</td>\n",
       "      <td>Manual</td>\n",
       "      <td>51.8</td>\n",
       "      <td>Damietta</td>\n",
       "      <td>200000</td>\n",
       "      <td>300000</td>\n",
       "    </tr>\n",
       "    <tr>\n",
       "      <th>14709</th>\n",
       "      <td>14182</td>\n",
       "      <td>Fiat</td>\n",
       "      <td>Uno</td>\n",
       "      <td>Hatchback</td>\n",
       "      <td>Green</td>\n",
       "      <td>1997</td>\n",
       "      <td>Benzine</td>\n",
       "      <td>More than 200000</td>\n",
       "      <td>1000 - 1300 CC</td>\n",
       "      <td>Manual</td>\n",
       "      <td>51.8</td>\n",
       "      <td>Cairo</td>\n",
       "      <td>200000</td>\n",
       "      <td>300000</td>\n",
       "    </tr>\n",
       "  </tbody>\n",
       "</table>\n",
       "<p>2505 rows × 14 columns</p>\n",
       "</div>"
      ],
      "text/plain": [
       "       Unnamed: 0    Brand   Model       Body            Color  Year     Fuel  \\\n",
       "5            5342  Hyundai  Accent      Sedan            Green  2000  Benzine   \n",
       "14           5351  Hyundai  Accent      Sedan      Other Color  2001  Benzine   \n",
       "18           5355  Hyundai  Accent      Sedan             Gray  1996  Benzine   \n",
       "19           5356  Hyundai  Accent      Sedan           Silver  2008  Benzine   \n",
       "21           5358  Hyundai  Accent      Sedan             Gold  2005  Benzine   \n",
       "...           ...      ...     ...        ...              ...   ...      ...   \n",
       "14693       14166     Fiat     Uno  Hatchback           Silver  2004  Benzine   \n",
       "14694       14167     Fiat     Uno  Hatchback              Red  2000  Benzine   \n",
       "14697       14170     Fiat     Uno  Hatchback  Blue- Navy Blue  2001  Benzine   \n",
       "14704       14177     Fiat     Uno  Hatchback           Silver  2001  Benzine   \n",
       "14709       14182     Fiat     Uno  Hatchback            Green  1997  Benzine   \n",
       "\n",
       "             Kilometers          Engine Transmission  Price             Gov  \\\n",
       "5      More than 200000  1000 - 1300 CC       Manual   57.0           Cairo   \n",
       "14     More than 200000  1000 - 1300 CC       Manual   67.0            Suez   \n",
       "18     More than 200000         1600 CC       Manual   75.0      Alexandria   \n",
       "19     More than 200000  1400 - 1500 CC       Manual  130.0           Minya   \n",
       "21     More than 200000  1400 - 1500 CC       Manual   69.0  Kafr al-Sheikh   \n",
       "...                 ...             ...          ...    ...             ...   \n",
       "14693  More than 200000  1000 - 1300 CC       Manual   51.8            Giza   \n",
       "14694  More than 200000  1000 - 1300 CC       Manual   57.5        Damietta   \n",
       "14697  More than 200000  1000 - 1300 CC       Manual   51.8      Alexandria   \n",
       "14704  More than 200000  1000 - 1300 CC       Manual   51.8        Damietta   \n",
       "14709  More than 200000  1000 - 1300 CC       Manual   51.8           Cairo   \n",
       "\n",
       "      min_kilometers max_kilometers  \n",
       "5             200000         300000  \n",
       "14            200000         300000  \n",
       "18            200000         300000  \n",
       "19            200000         300000  \n",
       "21            200000         300000  \n",
       "...              ...            ...  \n",
       "14693         200000         300000  \n",
       "14694         200000         300000  \n",
       "14697         200000         300000  \n",
       "14704         200000         300000  \n",
       "14709         200000         300000  \n",
       "\n",
       "[2505 rows x 14 columns]"
      ]
     },
     "execution_count": 21,
     "metadata": {},
     "output_type": "execute_result"
    }
   ],
   "source": [
    "df.iloc[index]"
   ]
  },
  {
   "cell_type": "code",
   "execution_count": 22,
   "id": "a972d464",
   "metadata": {},
   "outputs": [
    {
     "data": {
      "text/plain": [
       "array(['1600 CC', '1000 - 1300 CC', '1400 - 1500 CC'], dtype=object)"
      ]
     },
     "execution_count": 22,
     "metadata": {},
     "output_type": "execute_result"
    }
   ],
   "source": [
    "df['Engine'].unique()"
   ]
  },
  {
   "cell_type": "code",
   "execution_count": 23,
   "id": "51cd1995",
   "metadata": {},
   "outputs": [],
   "source": [
    "df['Engine'] = df['Engine'].replace('1600 CC', '1600', regex = True)\n",
    "df['Engine'] = df['Engine'].replace('1000 - 1300 CC', '1300', regex = True)\n",
    "df['Engine'] = df['Engine'].replace('1400 - 1500 CC', '1500', regex = True)"
   ]
  },
  {
   "cell_type": "code",
   "execution_count": 24,
   "id": "ac071219",
   "metadata": {},
   "outputs": [
    {
     "data": {
      "text/html": [
       "<div>\n",
       "<style scoped>\n",
       "    .dataframe tbody tr th:only-of-type {\n",
       "        vertical-align: middle;\n",
       "    }\n",
       "\n",
       "    .dataframe tbody tr th {\n",
       "        vertical-align: top;\n",
       "    }\n",
       "\n",
       "    .dataframe thead th {\n",
       "        text-align: right;\n",
       "    }\n",
       "</style>\n",
       "<table border=\"1\" class=\"dataframe\">\n",
       "  <thead>\n",
       "    <tr style=\"text-align: right;\">\n",
       "      <th></th>\n",
       "      <th>Unnamed: 0</th>\n",
       "      <th>Brand</th>\n",
       "      <th>Model</th>\n",
       "      <th>Body</th>\n",
       "      <th>Color</th>\n",
       "      <th>Year</th>\n",
       "      <th>Fuel</th>\n",
       "      <th>Kilometers</th>\n",
       "      <th>Engine</th>\n",
       "      <th>Transmission</th>\n",
       "      <th>Price</th>\n",
       "      <th>Gov</th>\n",
       "      <th>min_kilometers</th>\n",
       "      <th>max_kilometers</th>\n",
       "    </tr>\n",
       "  </thead>\n",
       "  <tbody>\n",
       "    <tr>\n",
       "      <th>0</th>\n",
       "      <td>5337</td>\n",
       "      <td>Hyundai</td>\n",
       "      <td>Accent</td>\n",
       "      <td>Sedan</td>\n",
       "      <td>Black</td>\n",
       "      <td>2007</td>\n",
       "      <td>Benzine</td>\n",
       "      <td>140000 to 159999</td>\n",
       "      <td>1600</td>\n",
       "      <td>Automatic</td>\n",
       "      <td>140.0</td>\n",
       "      <td>Giza</td>\n",
       "      <td>140000</td>\n",
       "      <td>159999</td>\n",
       "    </tr>\n",
       "    <tr>\n",
       "      <th>1</th>\n",
       "      <td>5338</td>\n",
       "      <td>Hyundai</td>\n",
       "      <td>Accent</td>\n",
       "      <td>Sedan</td>\n",
       "      <td>Silver</td>\n",
       "      <td>2005</td>\n",
       "      <td>Benzine</td>\n",
       "      <td>180000 to 199999</td>\n",
       "      <td>1300</td>\n",
       "      <td>Manual</td>\n",
       "      <td>78.0</td>\n",
       "      <td>Qena</td>\n",
       "      <td>180000</td>\n",
       "      <td>199999</td>\n",
       "    </tr>\n",
       "    <tr>\n",
       "      <th>2</th>\n",
       "      <td>5339</td>\n",
       "      <td>Hyundai</td>\n",
       "      <td>Accent</td>\n",
       "      <td>Sedan</td>\n",
       "      <td>Gray</td>\n",
       "      <td>1999</td>\n",
       "      <td>Benzine</td>\n",
       "      <td>140000 to 159999</td>\n",
       "      <td>1500</td>\n",
       "      <td>Manual</td>\n",
       "      <td>70.0</td>\n",
       "      <td>Giza</td>\n",
       "      <td>140000</td>\n",
       "      <td>159999</td>\n",
       "    </tr>\n",
       "    <tr>\n",
       "      <th>3</th>\n",
       "      <td>5340</td>\n",
       "      <td>Hyundai</td>\n",
       "      <td>Accent</td>\n",
       "      <td>Sedan</td>\n",
       "      <td>Blue- Navy Blue</td>\n",
       "      <td>2009</td>\n",
       "      <td>Benzine</td>\n",
       "      <td>140000 to 159999</td>\n",
       "      <td>1600</td>\n",
       "      <td>Automatic</td>\n",
       "      <td>150.0</td>\n",
       "      <td>Cairo</td>\n",
       "      <td>140000</td>\n",
       "      <td>159999</td>\n",
       "    </tr>\n",
       "    <tr>\n",
       "      <th>4</th>\n",
       "      <td>5341</td>\n",
       "      <td>Hyundai</td>\n",
       "      <td>Accent</td>\n",
       "      <td>Sedan</td>\n",
       "      <td>Silver</td>\n",
       "      <td>2000</td>\n",
       "      <td>Benzine</td>\n",
       "      <td>10000 to 19999</td>\n",
       "      <td>1300</td>\n",
       "      <td>Manual</td>\n",
       "      <td>75.0</td>\n",
       "      <td>Giza</td>\n",
       "      <td>10000</td>\n",
       "      <td>19999</td>\n",
       "    </tr>\n",
       "  </tbody>\n",
       "</table>\n",
       "</div>"
      ],
      "text/plain": [
       "   Unnamed: 0    Brand   Model   Body            Color  Year     Fuel  \\\n",
       "0        5337  Hyundai  Accent  Sedan            Black  2007  Benzine   \n",
       "1        5338  Hyundai  Accent  Sedan           Silver  2005  Benzine   \n",
       "2        5339  Hyundai  Accent  Sedan             Gray  1999  Benzine   \n",
       "3        5340  Hyundai  Accent  Sedan  Blue- Navy Blue  2009  Benzine   \n",
       "4        5341  Hyundai  Accent  Sedan           Silver  2000  Benzine   \n",
       "\n",
       "         Kilometers Engine Transmission  Price    Gov min_kilometers  \\\n",
       "0  140000 to 159999   1600    Automatic  140.0   Giza         140000   \n",
       "1  180000 to 199999   1300       Manual   78.0   Qena         180000   \n",
       "2  140000 to 159999   1500       Manual   70.0   Giza         140000   \n",
       "3  140000 to 159999   1600    Automatic  150.0  Cairo         140000   \n",
       "4    10000 to 19999   1300       Manual   75.0   Giza          10000   \n",
       "\n",
       "  max_kilometers  \n",
       "0         159999  \n",
       "1         199999  \n",
       "2         159999  \n",
       "3         159999  \n",
       "4          19999  "
      ]
     },
     "execution_count": 24,
     "metadata": {},
     "output_type": "execute_result"
    }
   ],
   "source": [
    "df.head()"
   ]
  },
  {
   "cell_type": "code",
   "execution_count": 25,
   "id": "f77d4cae",
   "metadata": {},
   "outputs": [],
   "source": [
    "df = df.drop(['Kilometers'], axis = 1)"
   ]
  },
  {
   "cell_type": "code",
   "execution_count": 26,
   "id": "592e9615",
   "metadata": {},
   "outputs": [
    {
     "name": "stdout",
     "output_type": "stream",
     "text": [
      "<class 'pandas.core.frame.DataFrame'>\n",
      "RangeIndex: 14741 entries, 0 to 14740\n",
      "Data columns (total 13 columns):\n",
      " #   Column          Non-Null Count  Dtype  \n",
      "---  ------          --------------  -----  \n",
      " 0   Unnamed: 0      14741 non-null  int64  \n",
      " 1   Brand           14741 non-null  object \n",
      " 2   Model           14741 non-null  object \n",
      " 3   Body            14741 non-null  object \n",
      " 4   Color           14741 non-null  object \n",
      " 5   Year            14741 non-null  int64  \n",
      " 6   Fuel            14741 non-null  object \n",
      " 7   Engine          14741 non-null  object \n",
      " 8   Transmission    14741 non-null  object \n",
      " 9   Price           14741 non-null  float64\n",
      " 10  Gov             14741 non-null  object \n",
      " 11  min_kilometers  14741 non-null  object \n",
      " 12  max_kilometers  14741 non-null  object \n",
      "dtypes: float64(1), int64(2), object(10)\n",
      "memory usage: 1.5+ MB\n"
     ]
    }
   ],
   "source": [
    "df.info()"
   ]
  },
  {
   "cell_type": "code",
   "execution_count": 27,
   "id": "58a7b83a",
   "metadata": {},
   "outputs": [],
   "source": [
    "df['min_kilometers'] = df['min_kilometers'].astype(int)\n",
    "df['max_kilometers'] = df['max_kilometers'].astype(int)\n",
    "df['Engine'] = df['Engine'].astype(int)"
   ]
  },
  {
   "cell_type": "code",
   "execution_count": 28,
   "id": "053fdd88",
   "metadata": {},
   "outputs": [
    {
     "name": "stdout",
     "output_type": "stream",
     "text": [
      "<class 'pandas.core.frame.DataFrame'>\n",
      "RangeIndex: 14741 entries, 0 to 14740\n",
      "Data columns (total 13 columns):\n",
      " #   Column          Non-Null Count  Dtype  \n",
      "---  ------          --------------  -----  \n",
      " 0   Unnamed: 0      14741 non-null  int64  \n",
      " 1   Brand           14741 non-null  object \n",
      " 2   Model           14741 non-null  object \n",
      " 3   Body            14741 non-null  object \n",
      " 4   Color           14741 non-null  object \n",
      " 5   Year            14741 non-null  int64  \n",
      " 6   Fuel            14741 non-null  object \n",
      " 7   Engine          14741 non-null  int32  \n",
      " 8   Transmission    14741 non-null  object \n",
      " 9   Price           14741 non-null  float64\n",
      " 10  Gov             14741 non-null  object \n",
      " 11  min_kilometers  14741 non-null  int32  \n",
      " 12  max_kilometers  14741 non-null  int32  \n",
      "dtypes: float64(1), int32(3), int64(2), object(7)\n",
      "memory usage: 1.3+ MB\n"
     ]
    }
   ],
   "source": [
    "df.info()"
   ]
  },
  {
   "cell_type": "code",
   "execution_count": 29,
   "id": "4d77382d",
   "metadata": {},
   "outputs": [
    {
     "data": {
      "text/html": [
       "<div>\n",
       "<style scoped>\n",
       "    .dataframe tbody tr th:only-of-type {\n",
       "        vertical-align: middle;\n",
       "    }\n",
       "\n",
       "    .dataframe tbody tr th {\n",
       "        vertical-align: top;\n",
       "    }\n",
       "\n",
       "    .dataframe thead th {\n",
       "        text-align: right;\n",
       "    }\n",
       "</style>\n",
       "<table border=\"1\" class=\"dataframe\">\n",
       "  <thead>\n",
       "    <tr style=\"text-align: right;\">\n",
       "      <th></th>\n",
       "      <th>Unnamed: 0</th>\n",
       "      <th>Year</th>\n",
       "      <th>Engine</th>\n",
       "      <th>Price</th>\n",
       "      <th>min_kilometers</th>\n",
       "      <th>max_kilometers</th>\n",
       "    </tr>\n",
       "  </thead>\n",
       "  <tbody>\n",
       "    <tr>\n",
       "      <th>count</th>\n",
       "      <td>14741.000000</td>\n",
       "      <td>14741.000000</td>\n",
       "      <td>14741.000000</td>\n",
       "      <td>14741.000000</td>\n",
       "      <td>14741.000000</td>\n",
       "      <td>14741.000000</td>\n",
       "    </tr>\n",
       "    <tr>\n",
       "      <th>mean</th>\n",
       "      <td>8934.846754</td>\n",
       "      <td>2005.456821</td>\n",
       "      <td>1496.716641</td>\n",
       "      <td>116.584987</td>\n",
       "      <td>102767.790516</td>\n",
       "      <td>131703.938946</td>\n",
       "    </tr>\n",
       "    <tr>\n",
       "      <th>std</th>\n",
       "      <td>4922.065495</td>\n",
       "      <td>12.655566</td>\n",
       "      <td>120.035354</td>\n",
       "      <td>82.192718</td>\n",
       "      <td>70006.335315</td>\n",
       "      <td>95931.306805</td>\n",
       "    </tr>\n",
       "    <tr>\n",
       "      <th>min</th>\n",
       "      <td>812.000000</td>\n",
       "      <td>1970.000000</td>\n",
       "      <td>1300.000000</td>\n",
       "      <td>3.000000</td>\n",
       "      <td>0.000000</td>\n",
       "      <td>9999.000000</td>\n",
       "    </tr>\n",
       "    <tr>\n",
       "      <th>25%</th>\n",
       "      <td>4497.000000</td>\n",
       "      <td>1998.000000</td>\n",
       "      <td>1500.000000</td>\n",
       "      <td>43.700000</td>\n",
       "      <td>30000.000000</td>\n",
       "      <td>39999.000000</td>\n",
       "    </tr>\n",
       "    <tr>\n",
       "      <th>50%</th>\n",
       "      <td>8182.000000</td>\n",
       "      <td>2010.000000</td>\n",
       "      <td>1500.000000</td>\n",
       "      <td>110.000000</td>\n",
       "      <td>100000.000000</td>\n",
       "      <td>119999.000000</td>\n",
       "    </tr>\n",
       "    <tr>\n",
       "      <th>75%</th>\n",
       "      <td>13373.000000</td>\n",
       "      <td>2015.000000</td>\n",
       "      <td>1600.000000</td>\n",
       "      <td>161.000000</td>\n",
       "      <td>180000.000000</td>\n",
       "      <td>199999.000000</td>\n",
       "    </tr>\n",
       "    <tr>\n",
       "      <th>max</th>\n",
       "      <td>17058.000000</td>\n",
       "      <td>2022.000000</td>\n",
       "      <td>1600.000000</td>\n",
       "      <td>471.500000</td>\n",
       "      <td>200000.000000</td>\n",
       "      <td>300000.000000</td>\n",
       "    </tr>\n",
       "  </tbody>\n",
       "</table>\n",
       "</div>"
      ],
      "text/plain": [
       "         Unnamed: 0          Year        Engine         Price  min_kilometers  \\\n",
       "count  14741.000000  14741.000000  14741.000000  14741.000000    14741.000000   \n",
       "mean    8934.846754   2005.456821   1496.716641    116.584987   102767.790516   \n",
       "std     4922.065495     12.655566    120.035354     82.192718    70006.335315   \n",
       "min      812.000000   1970.000000   1300.000000      3.000000        0.000000   \n",
       "25%     4497.000000   1998.000000   1500.000000     43.700000    30000.000000   \n",
       "50%     8182.000000   2010.000000   1500.000000    110.000000   100000.000000   \n",
       "75%    13373.000000   2015.000000   1600.000000    161.000000   180000.000000   \n",
       "max    17058.000000   2022.000000   1600.000000    471.500000   200000.000000   \n",
       "\n",
       "       max_kilometers  \n",
       "count    14741.000000  \n",
       "mean    131703.938946  \n",
       "std      95931.306805  \n",
       "min       9999.000000  \n",
       "25%      39999.000000  \n",
       "50%     119999.000000  \n",
       "75%     199999.000000  \n",
       "max     300000.000000  "
      ]
     },
     "execution_count": 29,
     "metadata": {},
     "output_type": "execute_result"
    }
   ],
   "source": [
    "df.describe()"
   ]
  },
  {
   "cell_type": "code",
   "execution_count": 30,
   "id": "f44aa333",
   "metadata": {
    "scrolled": true
   },
   "outputs": [],
   "source": [
    "index1 = df.loc[(df['Price'] <= 10) & (df['Year'] >= 2000)].index"
   ]
  },
  {
   "cell_type": "code",
   "execution_count": 31,
   "id": "7161cf8a",
   "metadata": {},
   "outputs": [],
   "source": [
    "df = df.drop(index1, axis=0)"
   ]
  },
  {
   "cell_type": "code",
   "execution_count": 32,
   "id": "5676aa7d",
   "metadata": {},
   "outputs": [
    {
     "name": "stdout",
     "output_type": "stream",
     "text": [
      "<class 'pandas.core.frame.DataFrame'>\n",
      "Int64Index: 14717 entries, 0 to 14740\n",
      "Data columns (total 13 columns):\n",
      " #   Column          Non-Null Count  Dtype  \n",
      "---  ------          --------------  -----  \n",
      " 0   Unnamed: 0      14717 non-null  int64  \n",
      " 1   Brand           14717 non-null  object \n",
      " 2   Model           14717 non-null  object \n",
      " 3   Body            14717 non-null  object \n",
      " 4   Color           14717 non-null  object \n",
      " 5   Year            14717 non-null  int64  \n",
      " 6   Fuel            14717 non-null  object \n",
      " 7   Engine          14717 non-null  int32  \n",
      " 8   Transmission    14717 non-null  object \n",
      " 9   Price           14717 non-null  float64\n",
      " 10  Gov             14717 non-null  object \n",
      " 11  min_kilometers  14717 non-null  int32  \n",
      " 12  max_kilometers  14717 non-null  int32  \n",
      "dtypes: float64(1), int32(3), int64(2), object(7)\n",
      "memory usage: 1.4+ MB\n"
     ]
    }
   ],
   "source": [
    "df.info()"
   ]
  },
  {
   "cell_type": "code",
   "execution_count": 33,
   "id": "0aab0842",
   "metadata": {},
   "outputs": [],
   "source": [
    "df = df.drop(['Unnamed: 0'], axis=1)"
   ]
  },
  {
   "cell_type": "code",
   "execution_count": 34,
   "id": "e2c38436",
   "metadata": {},
   "outputs": [],
   "source": [
    "df = df.drop(['Color'], axis = 1)"
   ]
  },
  {
   "cell_type": "markdown",
   "id": "26ec574d",
   "metadata": {},
   "source": [
    "### EDA"
   ]
  },
  {
   "cell_type": "markdown",
   "id": "bc1353be",
   "metadata": {},
   "source": [
    "#### what is the most year has most cars manufactured and used?"
   ]
  },
  {
   "cell_type": "code",
   "execution_count": 35,
   "id": "b50cdfa9",
   "metadata": {},
   "outputs": [
    {
     "data": {
      "text/plain": [
       "0    2013\n",
       "dtype: int64"
      ]
     },
     "execution_count": 35,
     "metadata": {},
     "output_type": "execute_result"
    }
   ],
   "source": [
    "df['Year'].mode()"
   ]
  },
  {
   "cell_type": "code",
   "execution_count": 36,
   "id": "aef359ab",
   "metadata": {
    "scrolled": true
   },
   "outputs": [
    {
     "data": {
      "text/plain": [
       "<AxesSubplot:>"
      ]
     },
     "execution_count": 36,
     "metadata": {},
     "output_type": "execute_result"
    },
    {
     "data": {
      "image/png": "[encoded data removed]",
      "text/plain": [
       "<Figure size 432x288 with 1 Axes>"
      ]
     },
     "metadata": {
      "needs_background": "light"
     },
     "output_type": "display_data"
    }
   ],
   "source": [
    "sns.boxplot(data = df)"
   ]
  },
  {
   "cell_type": "code",
   "execution_count": 37,
   "id": "588ec742",
   "metadata": {},
   "outputs": [
    {
     "data": {
      "text/plain": [
       "<seaborn.axisgrid.PairGrid at 0x26079239760>"
      ]
     },
     "execution_count": 37,
     "metadata": {},
     "output_type": "execute_result"
    },
    {
     "data": {
      "image/png": "[encoded data removed]",
      "text/plain": [
       "<Figure size 900x900 with 30 Axes>"
      ]
     },
     "metadata": {
      "needs_background": "light"
     },
     "output_type": "display_data"
    }
   ],
   "source": [
    "sns.pairplot(df)"
   ]
  },
  {
   "cell_type": "code",
   "execution_count": 38,
   "id": "72fcb078",
   "metadata": {
    "scrolled": false
   },
   "outputs": [
    {
     "data": {
      "text/html": [
       "<div>\n",
       "<style scoped>\n",
       "    .dataframe tbody tr th:only-of-type {\n",
       "        vertical-align: middle;\n",
       "    }\n",
       "\n",
       "    .dataframe tbody tr th {\n",
       "        vertical-align: top;\n",
       "    }\n",
       "\n",
       "    .dataframe thead th {\n",
       "        text-align: right;\n",
       "    }\n",
       "</style>\n",
       "<table border=\"1\" class=\"dataframe\">\n",
       "  <thead>\n",
       "    <tr style=\"text-align: right;\">\n",
       "      <th></th>\n",
       "      <th>Year</th>\n",
       "      <th>Engine</th>\n",
       "      <th>Price</th>\n",
       "      <th>min_kilometers</th>\n",
       "      <th>max_kilometers</th>\n",
       "    </tr>\n",
       "  </thead>\n",
       "  <tbody>\n",
       "    <tr>\n",
       "      <th>Year</th>\n",
       "      <td>1.000000</td>\n",
       "      <td>0.628755</td>\n",
       "      <td>0.777038</td>\n",
       "      <td>-0.237114</td>\n",
       "      <td>-0.254439</td>\n",
       "    </tr>\n",
       "    <tr>\n",
       "      <th>Engine</th>\n",
       "      <td>0.628755</td>\n",
       "      <td>1.000000</td>\n",
       "      <td>0.602197</td>\n",
       "      <td>-0.222598</td>\n",
       "      <td>-0.222283</td>\n",
       "    </tr>\n",
       "    <tr>\n",
       "      <th>Price</th>\n",
       "      <td>0.777038</td>\n",
       "      <td>0.602197</td>\n",
       "      <td>1.000000</td>\n",
       "      <td>-0.223680</td>\n",
       "      <td>-0.243491</td>\n",
       "    </tr>\n",
       "    <tr>\n",
       "      <th>min_kilometers</th>\n",
       "      <td>-0.237114</td>\n",
       "      <td>-0.222598</td>\n",
       "      <td>-0.223680</td>\n",
       "      <td>1.000000</td>\n",
       "      <td>0.971523</td>\n",
       "    </tr>\n",
       "    <tr>\n",
       "      <th>max_kilometers</th>\n",
       "      <td>-0.254439</td>\n",
       "      <td>-0.222283</td>\n",
       "      <td>-0.243491</td>\n",
       "      <td>0.971523</td>\n",
       "      <td>1.000000</td>\n",
       "    </tr>\n",
       "  </tbody>\n",
       "</table>\n",
       "</div>"
      ],
      "text/plain": [
       "                    Year    Engine     Price  min_kilometers  max_kilometers\n",
       "Year            1.000000  0.628755  0.777038       -0.237114       -0.254439\n",
       "Engine          0.628755  1.000000  0.602197       -0.222598       -0.222283\n",
       "Price           0.777038  0.602197  1.000000       -0.223680       -0.243491\n",
       "min_kilometers -0.237114 -0.222598 -0.223680        1.000000        0.971523\n",
       "max_kilometers -0.254439 -0.222283 -0.243491        0.971523        1.000000"
      ]
     },
     "execution_count": 38,
     "metadata": {},
     "output_type": "execute_result"
    }
   ],
   "source": [
    "df.corr()"
   ]
  },
  {
   "cell_type": "markdown",
   "id": "15be2440",
   "metadata": {},
   "source": [
    "#### How the body type affects the price?"
   ]
  },
  {
   "cell_type": "code",
   "execution_count": 39,
   "id": "5b4f0d17",
   "metadata": {
    "scrolled": true
   },
   "outputs": [
    {
     "data": {
      "text/plain": [
       "<AxesSubplot:xlabel='Body', ylabel='Price'>"
      ]
     },
     "execution_count": 39,
     "metadata": {},
     "output_type": "execute_result"
    },
    {
     "data": {
      "image/png": "[encoded data removed]",
      "text/plain": [
       "<Figure size 432x288 with 1 Axes>"
      ]
     },
     "metadata": {
      "needs_background": "light"
     },
     "output_type": "display_data"
    }
   ],
   "source": [
    "sns.lineplot(x = df['Body'], y = df['Price'])"
   ]
  },
  {
   "cell_type": "markdown",
   "id": "84ac39c2",
   "metadata": {},
   "source": [
    "#### Which govs we can find the many cars for sale with many varieties?"
   ]
  },
  {
   "cell_type": "code",
   "execution_count": 40,
   "id": "d6d80d8e",
   "metadata": {},
   "outputs": [
    {
     "name": "stderr",
     "output_type": "stream",
     "text": [
      "C:\\Users\\Pierre\\anaconda3\\lib\\site-packages\\seaborn\\_decorators.py:36: FutureWarning: Pass the following variable as a keyword arg: x. From version 0.12, the only valid positional argument will be `data`, and passing other arguments without an explicit keyword will result in an error or misinterpretation.\n",
      "  warnings.warn(\n"
     ]
    },
    {
     "data": {
      "text/plain": [
       "(array([ 0,  1,  2,  3,  4,  5,  6,  7,  8,  9, 10, 11, 12, 13, 14, 15, 16,\n",
       "        17, 18, 19, 20, 21, 22, 23, 24, 25]),\n",
       " [Text(0, 0, 'Giza'),\n",
       "  Text(1, 0, 'Qena'),\n",
       "  Text(2, 0, 'Cairo'),\n",
       "  Text(3, 0, 'Minya'),\n",
       "  Text(4, 0, 'Alexandria'),\n",
       "  Text(5, 0, 'Dakahlia'),\n",
       "  Text(6, 0, 'Suez'),\n",
       "  Text(7, 0, 'Sharqia'),\n",
       "  Text(8, 0, 'Kafr al-Sheikh'),\n",
       "  Text(9, 0, 'Beheira'),\n",
       "  Text(10, 0, 'Ismailia'),\n",
       "  Text(11, 0, 'Sohag'),\n",
       "  Text(12, 0, 'Monufia'),\n",
       "  Text(13, 0, 'Qalyubia'),\n",
       "  Text(14, 0, 'Beni Suef'),\n",
       "  Text(15, 0, 'Asyut'),\n",
       "  Text(16, 0, 'Fayoum'),\n",
       "  Text(17, 0, 'Gharbia'),\n",
       "  Text(18, 0, 'Matruh'),\n",
       "  Text(19, 0, 'Damietta'),\n",
       "  Text(20, 0, 'Red Sea'),\n",
       "  Text(21, 0, 'Port Said'),\n",
       "  Text(22, 0, 'Luxor'),\n",
       "  Text(23, 0, 'South Sinai'),\n",
       "  Text(24, 0, 'New Valley'),\n",
       "  Text(25, 0, 'Aswan')])"
      ]
     },
     "execution_count": 40,
     "metadata": {},
     "output_type": "execute_result"
    },
    {
     "data": {
      "image/png": "[encoded data removed]",
      "text/plain": [
       "<Figure size 1080x576 with 1 Axes>"
      ]
     },
     "metadata": {
      "needs_background": "light"
     },
     "output_type": "display_data"
    }
   ],
   "source": [
    "plt.figure(figsize=[15,8])\n",
    "sns.countplot(df['Gov'])\n",
    "plt.xticks(rotation=70)"
   ]
  },
  {
   "cell_type": "markdown",
   "id": "353f3a87",
   "metadata": {},
   "source": [
    "#### Which govs have the most average mileage?"
   ]
  },
  {
   "cell_type": "code",
   "execution_count": 41,
   "id": "2cdb9458",
   "metadata": {
    "scrolled": true
   },
   "outputs": [
    {
     "data": {
      "text/html": [
       "<div>\n",
       "<style scoped>\n",
       "    .dataframe tbody tr th:only-of-type {\n",
       "        vertical-align: middle;\n",
       "    }\n",
       "\n",
       "    .dataframe tbody tr th {\n",
       "        vertical-align: top;\n",
       "    }\n",
       "\n",
       "    .dataframe thead th {\n",
       "        text-align: right;\n",
       "    }\n",
       "</style>\n",
       "<table border=\"1\" class=\"dataframe\">\n",
       "  <thead>\n",
       "    <tr style=\"text-align: right;\">\n",
       "      <th></th>\n",
       "      <th>Gov</th>\n",
       "      <th>max_kilometers</th>\n",
       "    </tr>\n",
       "  </thead>\n",
       "  <tbody>\n",
       "    <tr>\n",
       "      <th>1</th>\n",
       "      <td>Aswan</td>\n",
       "      <td>159523.000000</td>\n",
       "    </tr>\n",
       "    <tr>\n",
       "      <th>21</th>\n",
       "      <td>Red Sea</td>\n",
       "      <td>140605.318182</td>\n",
       "    </tr>\n",
       "    <tr>\n",
       "      <th>10</th>\n",
       "      <td>Giza</td>\n",
       "      <td>140065.610212</td>\n",
       "    </tr>\n",
       "    <tr>\n",
       "      <th>5</th>\n",
       "      <td>Cairo</td>\n",
       "      <td>137043.215858</td>\n",
       "    </tr>\n",
       "    <tr>\n",
       "      <th>9</th>\n",
       "      <td>Gharbia</td>\n",
       "      <td>136189.641270</td>\n",
       "    </tr>\n",
       "    <tr>\n",
       "      <th>25</th>\n",
       "      <td>Suez</td>\n",
       "      <td>135129.084416</td>\n",
       "    </tr>\n",
       "    <tr>\n",
       "      <th>11</th>\n",
       "      <td>Ismailia</td>\n",
       "      <td>134332.516667</td>\n",
       "    </tr>\n",
       "    <tr>\n",
       "      <th>22</th>\n",
       "      <td>Sharqia</td>\n",
       "      <td>134328.576471</td>\n",
       "    </tr>\n",
       "    <tr>\n",
       "      <th>23</th>\n",
       "      <td>Sohag</td>\n",
       "      <td>131409.397436</td>\n",
       "    </tr>\n",
       "    <tr>\n",
       "      <th>19</th>\n",
       "      <td>Qalyubia</td>\n",
       "      <td>131289.501241</td>\n",
       "    </tr>\n",
       "    <tr>\n",
       "      <th>15</th>\n",
       "      <td>Minya</td>\n",
       "      <td>131100.864407</td>\n",
       "    </tr>\n",
       "    <tr>\n",
       "      <th>6</th>\n",
       "      <td>Dakahlia</td>\n",
       "      <td>130493.218058</td>\n",
       "    </tr>\n",
       "    <tr>\n",
       "      <th>14</th>\n",
       "      <td>Matruh</td>\n",
       "      <td>127221.500000</td>\n",
       "    </tr>\n",
       "    <tr>\n",
       "      <th>24</th>\n",
       "      <td>South Sinai</td>\n",
       "      <td>126070.571429</td>\n",
       "    </tr>\n",
       "    <tr>\n",
       "      <th>12</th>\n",
       "      <td>Kafr al-Sheikh</td>\n",
       "      <td>125696.848837</td>\n",
       "    </tr>\n",
       "    <tr>\n",
       "      <th>18</th>\n",
       "      <td>Port Said</td>\n",
       "      <td>122811.656250</td>\n",
       "    </tr>\n",
       "    <tr>\n",
       "      <th>4</th>\n",
       "      <td>Beni Suef</td>\n",
       "      <td>122064.326087</td>\n",
       "    </tr>\n",
       "    <tr>\n",
       "      <th>16</th>\n",
       "      <td>Monufia</td>\n",
       "      <td>121620.765766</td>\n",
       "    </tr>\n",
       "    <tr>\n",
       "      <th>0</th>\n",
       "      <td>Alexandria</td>\n",
       "      <td>119766.834963</td>\n",
       "    </tr>\n",
       "    <tr>\n",
       "      <th>20</th>\n",
       "      <td>Qena</td>\n",
       "      <td>117675.929293</td>\n",
       "    </tr>\n",
       "    <tr>\n",
       "      <th>2</th>\n",
       "      <td>Asyut</td>\n",
       "      <td>114073.157407</td>\n",
       "    </tr>\n",
       "    <tr>\n",
       "      <th>8</th>\n",
       "      <td>Fayoum</td>\n",
       "      <td>111984.455882</td>\n",
       "    </tr>\n",
       "    <tr>\n",
       "      <th>7</th>\n",
       "      <td>Damietta</td>\n",
       "      <td>109141.961905</td>\n",
       "    </tr>\n",
       "    <tr>\n",
       "      <th>3</th>\n",
       "      <td>Beheira</td>\n",
       "      <td>109104.788618</td>\n",
       "    </tr>\n",
       "    <tr>\n",
       "      <th>13</th>\n",
       "      <td>Luxor</td>\n",
       "      <td>86189.571429</td>\n",
       "    </tr>\n",
       "    <tr>\n",
       "      <th>17</th>\n",
       "      <td>New Valley</td>\n",
       "      <td>84999.000000</td>\n",
       "    </tr>\n",
       "  </tbody>\n",
       "</table>\n",
       "</div>"
      ],
      "text/plain": [
       "               Gov  max_kilometers\n",
       "1            Aswan   159523.000000\n",
       "21         Red Sea   140605.318182\n",
       "10            Giza   140065.610212\n",
       "5            Cairo   137043.215858\n",
       "9          Gharbia   136189.641270\n",
       "25            Suez   135129.084416\n",
       "11        Ismailia   134332.516667\n",
       "22         Sharqia   134328.576471\n",
       "23           Sohag   131409.397436\n",
       "19        Qalyubia   131289.501241\n",
       "15           Minya   131100.864407\n",
       "6         Dakahlia   130493.218058\n",
       "14          Matruh   127221.500000\n",
       "24     South Sinai   126070.571429\n",
       "12  Kafr al-Sheikh   125696.848837\n",
       "18       Port Said   122811.656250\n",
       "4        Beni Suef   122064.326087\n",
       "16         Monufia   121620.765766\n",
       "0       Alexandria   119766.834963\n",
       "20            Qena   117675.929293\n",
       "2            Asyut   114073.157407\n",
       "8           Fayoum   111984.455882\n",
       "7         Damietta   109141.961905\n",
       "3          Beheira   109104.788618\n",
       "13           Luxor    86189.571429\n",
       "17      New Valley    84999.000000"
      ]
     },
     "execution_count": 41,
     "metadata": {},
     "output_type": "execute_result"
    }
   ],
   "source": [
    "df.groupby('Gov', as_index=False)['max_kilometers'].mean().sort_values(by=['max_kilometers'], ascending=False)"
   ]
  },
  {
   "cell_type": "code",
   "execution_count": 42,
   "id": "b1c3d12b",
   "metadata": {
    "scrolled": false
   },
   "outputs": [
    {
     "name": "stderr",
     "output_type": "stream",
     "text": [
      "C:\\Users\\Pierre\\anaconda3\\lib\\site-packages\\seaborn\\_decorators.py:36: FutureWarning: Pass the following variable as a keyword arg: x. From version 0.12, the only valid positional argument will be `data`, and passing other arguments without an explicit keyword will result in an error or misinterpretation.\n",
      "  warnings.warn(\n"
     ]
    },
    {
     "data": {
      "text/plain": [
       "<AxesSubplot:xlabel='Fuel', ylabel='count'>"
      ]
     },
     "execution_count": 42,
     "metadata": {},
     "output_type": "execute_result"
    },
    {
     "data": {
      "image/png": "[encoded data removed]",
      "text/plain": [
       "<Figure size 432x288 with 1 Axes>"
      ]
     },
     "metadata": {
      "needs_background": "light"
     },
     "output_type": "display_data"
    }
   ],
   "source": [
    "sns.countplot(df['Fuel'])"
   ]
  },
  {
   "cell_type": "code",
   "execution_count": 43,
   "id": "194ecc02",
   "metadata": {
    "scrolled": true
   },
   "outputs": [
    {
     "name": "stderr",
     "output_type": "stream",
     "text": [
      "C:\\Users\\Pierre\\anaconda3\\lib\\site-packages\\seaborn\\_decorators.py:36: FutureWarning: Pass the following variable as a keyword arg: x. From version 0.12, the only valid positional argument will be `data`, and passing other arguments without an explicit keyword will result in an error or misinterpretation.\n",
      "  warnings.warn(\n"
     ]
    },
    {
     "data": {
      "text/plain": [
       "<AxesSubplot:xlabel='Transmission', ylabel='count'>"
      ]
     },
     "execution_count": 43,
     "metadata": {},
     "output_type": "execute_result"
    },
    {
     "data": {
      "image/png": "[encoded data removed]",
      "text/plain": [
       "<Figure size 432x288 with 1 Axes>"
      ]
     },
     "metadata": {
      "needs_background": "light"
     },
     "output_type": "display_data"
    }
   ],
   "source": [
    "sns.countplot(df['Transmission'])"
   ]
  },
  {
   "cell_type": "markdown",
   "id": "7146556d",
   "metadata": {},
   "source": [
    "#### What are the most successful brands in Egypt?"
   ]
  },
  {
   "cell_type": "code",
   "execution_count": 44,
   "id": "2ad214ba",
   "metadata": {
    "scrolled": true
   },
   "outputs": [
    {
     "name": "stderr",
     "output_type": "stream",
     "text": [
      "C:\\Users\\Pierre\\anaconda3\\lib\\site-packages\\seaborn\\_decorators.py:36: FutureWarning: Pass the following variable as a keyword arg: x. From version 0.12, the only valid positional argument will be `data`, and passing other arguments without an explicit keyword will result in an error or misinterpretation.\n",
      "  warnings.warn(\n"
     ]
    },
    {
     "data": {
      "text/plain": [
       "<AxesSubplot:xlabel='Brand', ylabel='count'>"
      ]
     },
     "execution_count": 44,
     "metadata": {},
     "output_type": "execute_result"
    },
    {
     "data": {
      "image/png": "[encoded data removed]",
      "text/plain": [
       "<Figure size 432x288 with 1 Axes>"
      ]
     },
     "metadata": {
      "needs_background": "light"
     },
     "output_type": "display_data"
    }
   ],
   "source": [
    "sns.countplot(df['Brand'])"
   ]
  },
  {
   "cell_type": "code",
   "execution_count": 45,
   "id": "3d8e7f28",
   "metadata": {},
   "outputs": [
    {
     "name": "stderr",
     "output_type": "stream",
     "text": [
      "C:\\Users\\Pierre\\anaconda3\\lib\\site-packages\\seaborn\\_decorators.py:36: FutureWarning: Pass the following variable as a keyword arg: x. From version 0.12, the only valid positional argument will be `data`, and passing other arguments without an explicit keyword will result in an error or misinterpretation.\n",
      "  warnings.warn(\n"
     ]
    },
    {
     "data": {
      "text/plain": [
       "(array([ 0,  1,  2,  3,  4,  5,  6,  7,  8,  9, 10, 11, 12, 13, 14, 15, 16,\n",
       "        17]),\n",
       " [Text(0, 0, 'Accent'),\n",
       "  Text(1, 0, 'Avante'),\n",
       "  Text(2, 0, 'I10'),\n",
       "  Text(3, 0, 'Elantra'),\n",
       "  Text(4, 0, 'Excel'),\n",
       "  Text(5, 0, 'Matrix'),\n",
       "  Text(6, 0, 'Tucson'),\n",
       "  Text(7, 0, 'Verna'),\n",
       "  Text(8, 0, 'Cruze'),\n",
       "  Text(9, 0, 'Aveo'),\n",
       "  Text(10, 0, 'Lanos'),\n",
       "  Text(11, 0, 'Optra'),\n",
       "  Text(12, 0, '128'),\n",
       "  Text(13, 0, '131'),\n",
       "  Text(14, 0, 'Punto'),\n",
       "  Text(15, 0, 'Shahin'),\n",
       "  Text(16, 0, 'Tipo'),\n",
       "  Text(17, 0, 'Uno')])"
      ]
     },
     "execution_count": 45,
     "metadata": {},
     "output_type": "execute_result"
    },
    {
     "data": {
      "image/png": "[encoded data removed]",
      "text/plain": [
       "<Figure size 1080x576 with 1 Axes>"
      ]
     },
     "metadata": {
      "needs_background": "light"
     },
     "output_type": "display_data"
    }
   ],
   "source": [
    "plt.figure(figsize=[15,8])\n",
    "sns.countplot(df['Model'], hue = df['Brand'])\n",
    "plt.xticks(rotation=70)"
   ]
  },
  {
   "cell_type": "markdown",
   "id": "1238e9ed",
   "metadata": {},
   "source": [
    "## Preprocessing 2"
   ]
  },
  {
   "cell_type": "code",
   "execution_count": 46,
   "id": "2aa7a4b6",
   "metadata": {},
   "outputs": [],
   "source": [
    "df = df.drop(['Gov'], axis = 1)"
   ]
  },
  {
   "cell_type": "code",
   "execution_count": 47,
   "id": "fcdcebad",
   "metadata": {
    "scrolled": false
   },
   "outputs": [
    {
     "data": {
      "text/html": [
       "<div>\n",
       "<style scoped>\n",
       "    .dataframe tbody tr th:only-of-type {\n",
       "        vertical-align: middle;\n",
       "    }\n",
       "\n",
       "    .dataframe tbody tr th {\n",
       "        vertical-align: top;\n",
       "    }\n",
       "\n",
       "    .dataframe thead th {\n",
       "        text-align: right;\n",
       "    }\n",
       "</style>\n",
       "<table border=\"1\" class=\"dataframe\">\n",
       "  <thead>\n",
       "    <tr style=\"text-align: right;\">\n",
       "      <th></th>\n",
       "      <th>Brand</th>\n",
       "      <th>Model</th>\n",
       "      <th>Body</th>\n",
       "      <th>Year</th>\n",
       "      <th>Fuel</th>\n",
       "      <th>Engine</th>\n",
       "      <th>Transmission</th>\n",
       "      <th>Price</th>\n",
       "      <th>min_kilometers</th>\n",
       "      <th>max_kilometers</th>\n",
       "    </tr>\n",
       "  </thead>\n",
       "  <tbody>\n",
       "    <tr>\n",
       "      <th>0</th>\n",
       "      <td>Hyundai</td>\n",
       "      <td>Accent</td>\n",
       "      <td>Sedan</td>\n",
       "      <td>2007</td>\n",
       "      <td>Benzine</td>\n",
       "      <td>1600</td>\n",
       "      <td>Automatic</td>\n",
       "      <td>140.0</td>\n",
       "      <td>140000</td>\n",
       "      <td>159999</td>\n",
       "    </tr>\n",
       "    <tr>\n",
       "      <th>1</th>\n",
       "      <td>Hyundai</td>\n",
       "      <td>Accent</td>\n",
       "      <td>Sedan</td>\n",
       "      <td>2005</td>\n",
       "      <td>Benzine</td>\n",
       "      <td>1300</td>\n",
       "      <td>Manual</td>\n",
       "      <td>78.0</td>\n",
       "      <td>180000</td>\n",
       "      <td>199999</td>\n",
       "    </tr>\n",
       "    <tr>\n",
       "      <th>2</th>\n",
       "      <td>Hyundai</td>\n",
       "      <td>Accent</td>\n",
       "      <td>Sedan</td>\n",
       "      <td>1999</td>\n",
       "      <td>Benzine</td>\n",
       "      <td>1500</td>\n",
       "      <td>Manual</td>\n",
       "      <td>70.0</td>\n",
       "      <td>140000</td>\n",
       "      <td>159999</td>\n",
       "    </tr>\n",
       "    <tr>\n",
       "      <th>3</th>\n",
       "      <td>Hyundai</td>\n",
       "      <td>Accent</td>\n",
       "      <td>Sedan</td>\n",
       "      <td>2009</td>\n",
       "      <td>Benzine</td>\n",
       "      <td>1600</td>\n",
       "      <td>Automatic</td>\n",
       "      <td>150.0</td>\n",
       "      <td>140000</td>\n",
       "      <td>159999</td>\n",
       "    </tr>\n",
       "    <tr>\n",
       "      <th>4</th>\n",
       "      <td>Hyundai</td>\n",
       "      <td>Accent</td>\n",
       "      <td>Sedan</td>\n",
       "      <td>2000</td>\n",
       "      <td>Benzine</td>\n",
       "      <td>1300</td>\n",
       "      <td>Manual</td>\n",
       "      <td>75.0</td>\n",
       "      <td>10000</td>\n",
       "      <td>19999</td>\n",
       "    </tr>\n",
       "  </tbody>\n",
       "</table>\n",
       "</div>"
      ],
      "text/plain": [
       "     Brand   Model   Body  Year     Fuel  Engine Transmission  Price  \\\n",
       "0  Hyundai  Accent  Sedan  2007  Benzine    1600    Automatic  140.0   \n",
       "1  Hyundai  Accent  Sedan  2005  Benzine    1300       Manual   78.0   \n",
       "2  Hyundai  Accent  Sedan  1999  Benzine    1500       Manual   70.0   \n",
       "3  Hyundai  Accent  Sedan  2009  Benzine    1600    Automatic  150.0   \n",
       "4  Hyundai  Accent  Sedan  2000  Benzine    1300       Manual   75.0   \n",
       "\n",
       "   min_kilometers  max_kilometers  \n",
       "0          140000          159999  \n",
       "1          180000          199999  \n",
       "2          140000          159999  \n",
       "3          140000          159999  \n",
       "4           10000           19999  "
      ]
     },
     "execution_count": 47,
     "metadata": {},
     "output_type": "execute_result"
    }
   ],
   "source": [
    "df.head()"
   ]
  },
  {
   "cell_type": "code",
   "execution_count": 48,
   "id": "1d54c723",
   "metadata": {},
   "outputs": [],
   "source": [
    "x = df.drop('Price', axis = 1)\n",
    "y = df['Price']"
   ]
  },
  {
   "cell_type": "code",
   "execution_count": 49,
   "id": "3bfb4dce",
   "metadata": {},
   "outputs": [],
   "source": [
    "x = pd.get_dummies(x, drop_first=True)"
   ]
  },
  {
   "cell_type": "code",
   "execution_count": 50,
   "id": "7f750e34",
   "metadata": {},
   "outputs": [],
   "source": [
    "from sklearn.model_selection import train_test_split\n",
    "x_train, x_test, y_train, y_test = train_test_split(x,y,test_size=0.2,random_state=0)"
   ]
  },
  {
   "cell_type": "code",
   "execution_count": 51,
   "id": "91c26f02",
   "metadata": {},
   "outputs": [],
   "source": [
    "from sklearn.preprocessing import StandardScaler\n",
    "scaler = StandardScaler()\n",
    "x_train_scaled = scaler.fit_transform(x_train)\n",
    "x_test_scaled = scaler.transform(x_test)"
   ]
  },
  {
   "cell_type": "markdown",
   "id": "8d56671a",
   "metadata": {},
   "source": [
    "## Modeling and Evaluation"
   ]
  },
  {
   "cell_type": "code",
   "execution_count": 52,
   "id": "abe81e5d",
   "metadata": {},
   "outputs": [
    {
     "name": "stdout",
     "output_type": "stream",
     "text": [
      "R2 value 0.8520722688989398\n",
      "mean square error 988.7439677549855\n"
     ]
    }
   ],
   "source": [
    "from sklearn.linear_model import LinearRegression\n",
    "from sklearn.metrics import mean_squared_error\n",
    "lr = LinearRegression()\n",
    "lr.fit(x_train_scaled, y_train)\n",
    "y_pred = lr.predict(x_test_scaled)\n",
    "print('R2 value', lr.score(x_test_scaled, y_test))\n",
    "print('mean square error', mean_squared_error(y_test, y_pred))"
   ]
  },
  {
   "cell_type": "code",
   "execution_count": 53,
   "id": "c4bbb800",
   "metadata": {},
   "outputs": [
    {
     "name": "stdout",
     "output_type": "stream",
     "text": [
      "R2 value 0.9004957507994009\n",
      "mean square error 665.0830471797593\n"
     ]
    }
   ],
   "source": [
    "from sklearn.tree import DecisionTreeRegressor\n",
    "dt = DecisionTreeRegressor()\n",
    "dt.fit(x_train_scaled, y_train)\n",
    "y_pred = dt.predict(x_test_scaled)\n",
    "print('R2 value', dt.score(x_test_scaled, y_test))\n",
    "print('mean square error', mean_squared_error(y_test, y_pred))"
   ]
  },
  {
   "cell_type": "code",
   "execution_count": 54,
   "id": "8e634423",
   "metadata": {},
   "outputs": [
    {
     "name": "stdout",
     "output_type": "stream",
     "text": [
      "R2 value 0.9111574981261583\n",
      "mean square error 593.8202874754456\n"
     ]
    }
   ],
   "source": [
    "from sklearn.ensemble import RandomForestRegressor\n",
    "rf = RandomForestRegressor()\n",
    "rf.fit(x_train_scaled, y_train)\n",
    "y_pred = rf.predict(x_test_scaled)\n",
    "print('R2 value', rf.score(x_test_scaled, y_test))\n",
    "print('mean square error', mean_squared_error(y_test, y_pred))"
   ]
  },
  {
   "cell_type": "markdown",
   "id": "cc01dad7",
   "metadata": {},
   "source": [
    "## Cross Validation"
   ]
  },
  {
   "cell_type": "code",
   "execution_count": 55,
   "id": "430091f4",
   "metadata": {},
   "outputs": [],
   "source": [
    "from sklearn.model_selection import KFold\n",
    "from sklearn.model_selection import cross_validate\n",
    "kfold = KFold(n_splits = 5)\n",
    "score = cross_validate(rf, x_train_scaled, y_train, cv=kfold)"
   ]
  },
  {
   "cell_type": "code",
   "execution_count": 56,
   "id": "8201292c",
   "metadata": {
    "scrolled": true
   },
   "outputs": [
    {
     "data": {
      "text/plain": [
       "{'fit_time': array([1.60604453, 1.50041318, 1.41754723, 1.38390064, 1.41503906]),\n",
       " 'score_time': array([0.04688072, 0.04810166, 0.03126502, 0.04686952, 0.05054617]),\n",
       " 'test_score': array([0.91849334, 0.90909427, 0.90362836, 0.90719632, 0.89602198])}"
      ]
     },
     "execution_count": 56,
     "metadata": {},
     "output_type": "execute_result"
    }
   ],
   "source": [
    "score"
   ]
  },
  {
   "cell_type": "code",
   "execution_count": 57,
   "id": "c3fb2eff",
   "metadata": {},
   "outputs": [
    {
     "data": {
      "text/plain": [
       "GridSearchCV(cv=5, estimator=RandomForestRegressor(),\n",
       "             param_grid={'max_depth': [5, 7, 9],\n",
       "                         'n_estimators': [100, 200, 300]})"
      ]
     },
     "execution_count": 57,
     "metadata": {},
     "output_type": "execute_result"
    }
   ],
   "source": [
    "from sklearn.model_selection import GridSearchCV\n",
    "par = {'n_estimators':[100, 200, 300],'max_depth':[5,7,9]}\n",
    "grid = GridSearchCV(rf, param_grid = par, cv = 5)\n",
    "grid.fit(x_train_scaled, y_train)"
   ]
  },
  {
   "cell_type": "code",
   "execution_count": 58,
   "id": "edceafa8",
   "metadata": {},
   "outputs": [
    {
     "data": {
      "text/plain": [
       "{'max_depth': 9, 'n_estimators': 200}"
      ]
     },
     "execution_count": 58,
     "metadata": {},
     "output_type": "execute_result"
    }
   ],
   "source": [
    "grid.best_params_"
   ]
  },
  {
   "cell_type": "code",
   "execution_count": 59,
   "id": "0f6098d4",
   "metadata": {},
   "outputs": [
    {
     "name": "stdout",
     "output_type": "stream",
     "text": [
      "R2 value 0.9097104810914827\n",
      "mean square error 603.4921005535278\n"
     ]
    }
   ],
   "source": [
    "rf = RandomForestRegressor(max_depth= 9, n_estimators= 200)\n",
    "rf.fit(x_train_scaled, y_train)\n",
    "y_pred = rf.predict(x_test_scaled)\n",
    "print('R2 value', rf.score(x_test_scaled, y_test))\n",
    "print('mean square error', mean_squared_error(y_test, y_pred))"
   ]
  },
  {
   "cell_type": "code",
   "execution_count": 60,
   "id": "c1855543",
   "metadata": {},
   "outputs": [],
   "source": [
    "x = df.drop('Price', axis = 1)\n",
    "y = df['Price']"
   ]
  },
  {
   "cell_type": "code",
   "execution_count": 61,
   "id": "f0bed441",
   "metadata": {},
   "outputs": [],
   "source": [
    "x_train, x_test, y_train, y_test = train_test_split(x, y, test_size=0.2, random_state=0)"
   ]
  },
  {
   "cell_type": "code",
   "execution_count": 62,
   "id": "f30f525f",
   "metadata": {},
   "outputs": [],
   "source": [
    "numeric_columns = x_train.select_dtypes(exclude = 'object').columns"
   ]
  },
  {
   "cell_type": "code",
   "execution_count": 63,
   "id": "b67593a4",
   "metadata": {},
   "outputs": [],
   "source": [
    "cat_columns = x_train.select_dtypes(include = 'object').columns"
   ]
  },
  {
   "cell_type": "markdown",
   "id": "9dc1966d",
   "metadata": {},
   "source": [
    "## Pipeline"
   ]
  },
  {
   "cell_type": "code",
   "execution_count": 66,
   "id": "9886c99c",
   "metadata": {},
   "outputs": [],
   "source": [
    "from sklearn.pipeline import Pipeline\n",
    "from sklearn.impute import SimpleImputer\n",
    "from sklearn.preprocessing import OneHotEncoder\n",
    "numeric_transformer = Pipeline([('impute', SimpleImputer(strategy='median')),\n",
    "                                ('scaler', StandardScaler(with_mean=False))])\n",
    "cat_transformer = Pipeline([('impute', SimpleImputer(strategy='most_frequent')),\n",
    "                            ('encode', OneHotEncoder()),\n",
    "                            ('scaler', StandardScaler(with_mean=False))])"
   ]
  },
  {
   "cell_type": "code",
   "execution_count": 67,
   "id": "54c99ba7",
   "metadata": {},
   "outputs": [],
   "source": [
    "from sklearn.compose import ColumnTransformer\n",
    "preprocess = ColumnTransformer(transformers=[('num', numeric_transformer, numeric_columns),\n",
    "                                             ('cat', cat_transformer, cat_columns)])"
   ]
  },
  {
   "cell_type": "code",
   "execution_count": 68,
   "id": "27b8c668",
   "metadata": {},
   "outputs": [
    {
     "data": {
      "text/plain": [
       "ColumnTransformer(transformers=[('num',\n",
       "                                 Pipeline(steps=[('impute',\n",
       "                                                  SimpleImputer(strategy='median')),\n",
       "                                                 ('scaler',\n",
       "                                                  StandardScaler(with_mean=False))]),\n",
       "                                 Index(['Year', 'Engine', 'min_kilometers', 'max_kilometers'], dtype='object')),\n",
       "                                ('cat',\n",
       "                                 Pipeline(steps=[('impute',\n",
       "                                                  SimpleImputer(strategy='most_frequent')),\n",
       "                                                 ('encode', OneHotEncoder()),\n",
       "                                                 ('scaler',\n",
       "                                                  StandardScaler(with_mean=False))]),\n",
       "                                 Index(['Brand', 'Model', 'Body', 'Fuel', 'Transmission'], dtype='object'))])"
      ]
     },
     "execution_count": 68,
     "metadata": {},
     "output_type": "execute_result"
    }
   ],
   "source": [
    "preprocess"
   ]
  },
  {
   "cell_type": "code",
   "execution_count": 69,
   "id": "79e49937",
   "metadata": {},
   "outputs": [],
   "source": [
    "pipe = Pipeline([('preprocessing', preprocess),\n",
    "                 ('model', RandomForestRegressor(max_depth= 9, n_estimators= 300))])"
   ]
  },
  {
   "cell_type": "code",
   "execution_count": 70,
   "id": "588f79f8",
   "metadata": {},
   "outputs": [
    {
     "data": {
      "text/plain": [
       "Pipeline(steps=[('preprocessing',\n",
       "                 ColumnTransformer(transformers=[('num',\n",
       "                                                  Pipeline(steps=[('impute',\n",
       "                                                                   SimpleImputer(strategy='median')),\n",
       "                                                                  ('scaler',\n",
       "                                                                   StandardScaler(with_mean=False))]),\n",
       "                                                  Index(['Year', 'Engine', 'min_kilometers', 'max_kilometers'], dtype='object')),\n",
       "                                                 ('cat',\n",
       "                                                  Pipeline(steps=[('impute',\n",
       "                                                                   SimpleImputer(strategy='most_frequent')),\n",
       "                                                                  ('encode',\n",
       "                                                                   OneHotEncoder()),\n",
       "                                                                  ('scaler',\n",
       "                                                                   StandardScaler(with_mean=False))]),\n",
       "                                                  Index(['Brand', 'Model', 'Body', 'Fuel', 'Transmission'], dtype='object'))])),\n",
       "                ('model',\n",
       "                 RandomForestRegressor(max_depth=9, n_estimators=300))])"
      ]
     },
     "execution_count": 70,
     "metadata": {},
     "output_type": "execute_result"
    }
   ],
   "source": [
    "pipe.fit(x_train, y_train)"
   ]
  },
  {
   "cell_type": "code",
   "execution_count": 71,
   "id": "dfcdc2d8",
   "metadata": {},
   "outputs": [
    {
     "data": {
      "text/plain": [
       "['final_pr_model.pkl']"
      ]
     },
     "execution_count": 71,
     "metadata": {},
     "output_type": "execute_result"
    }
   ],
   "source": [
    "import joblib\n",
    "joblib.dump(pipe, 'final_pr_model.pkl')"
   ]
  },
  {
   "cell_type": "markdown",
   "id": "b1b8d771",
   "metadata": {},
   "source": [
    "## Deployment"
   ]
  },
  {
   "cell_type": "code",
   "execution_count": 72,
   "id": "5de19fc2",
   "metadata": {},
   "outputs": [
    {
     "name": "stdout",
     "output_type": "stream",
     "text": [
      "Requirement already satisfied: streamlit in c:\\users\\pierre\\anaconda3\\lib\\site-packages (1.11.0)\n",
      "Requirement already satisfied: watchdog in c:\\users\\pierre\\anaconda3\\lib\\site-packages (from streamlit) (1.0.2)\n",
      "Requirement already satisfied: requests>=2.4 in c:\\users\\pierre\\anaconda3\\lib\\site-packages (from streamlit) (2.25.1)\n",
      "Requirement already satisfied: attrs>=16.0.0 in c:\\users\\pierre\\anaconda3\\lib\\site-packages (from streamlit) (20.3.0)\n",
      "Requirement already satisfied: click>=7.0 in c:\\users\\pierre\\anaconda3\\lib\\site-packages (from streamlit) (7.1.2)\n",
      "Requirement already satisfied: numpy in c:\\users\\pierre\\anaconda3\\lib\\site-packages (from streamlit) (1.20.1)\n",
      "Requirement already satisfied: gitpython!=3.1.19 in c:\\users\\pierre\\anaconda3\\lib\\site-packages (from streamlit) (3.1.27)\n",
      "Requirement already satisfied: semver in c:\\users\\pierre\\anaconda3\\lib\\site-packages (from streamlit) (2.13.0)\n",
      "Requirement already satisfied: validators>=0.2 in c:\\users\\pierre\\anaconda3\\lib\\site-packages (from streamlit) (0.20.0)\n",
      "Requirement already satisfied: pyarrow>=4.0 in c:\\users\\pierre\\anaconda3\\lib\\site-packages (from streamlit) (8.0.0)\n",
      "Requirement already satisfied: typing-extensions>=3.10.0.0 in c:\\users\\pierre\\anaconda3\\lib\\site-packages (from streamlit) (4.3.0)\n",
      "Requirement already satisfied: pandas>=0.21.0 in c:\\users\\pierre\\anaconda3\\lib\\site-packages (from streamlit) (1.2.4)\n",
      "Requirement already satisfied: python-dateutil in c:\\users\\pierre\\anaconda3\\lib\\site-packages (from streamlit) (2.8.1)\n",
      "Requirement already satisfied: pillow>=6.2.0 in c:\\users\\pierre\\anaconda3\\lib\\site-packages (from streamlit) (8.2.0)\n",
      "Requirement already satisfied: protobuf<4,>=3.12 in c:\\users\\pierre\\anaconda3\\lib\\site-packages (from streamlit) (3.20.1)\n",
      "Requirement already satisfied: rich>=10.11.0 in c:\\users\\pierre\\anaconda3\\lib\\site-packages (from streamlit) (12.5.1)\n",
      "Requirement already satisfied: blinker>=1.0.0 in c:\\users\\pierre\\anaconda3\\lib\\site-packages (from streamlit) (1.5)\n",
      "Requirement already satisfied: packaging>=14.1 in c:\\users\\pierre\\anaconda3\\lib\\site-packages (from streamlit) (20.9)\n",
      "Requirement already satisfied: tornado>=5.0 in c:\\users\\pierre\\anaconda3\\lib\\site-packages (from streamlit) (6.1)\n",
      "Requirement already satisfied: tzlocal>=1.1 in c:\\users\\pierre\\anaconda3\\lib\\site-packages (from streamlit) (4.2)\n",
      "Requirement already satisfied: cachetools>=4.0 in c:\\users\\pierre\\anaconda3\\lib\\site-packages (from streamlit) (5.2.0)\n",
      "Requirement already satisfied: altair>=3.2.0 in c:\\users\\pierre\\anaconda3\\lib\\site-packages (from streamlit) (4.2.0)\n",
      "Requirement already satisfied: pydeck>=0.1.dev5 in c:\\users\\pierre\\anaconda3\\lib\\site-packages (from streamlit) (0.7.1)\n",
      "Requirement already satisfied: importlib-metadata>=1.4 in c:\\users\\pierre\\anaconda3\\lib\\site-packages (from streamlit) (3.10.0)\n",
      "Requirement already satisfied: pympler>=0.9 in c:\\users\\pierre\\anaconda3\\lib\\site-packages (from streamlit) (1.0.1)\n",
      "Requirement already satisfied: toml in c:\\users\\pierre\\anaconda3\\lib\\site-packages (from streamlit) (0.10.2)\n",
      "Requirement already satisfied: entrypoints in c:\\users\\pierre\\anaconda3\\lib\\site-packages (from altair>=3.2.0->streamlit) (0.3)\n",
      "Requirement already satisfied: jsonschema>=3.0 in c:\\users\\pierre\\anaconda3\\lib\\site-packages (from altair>=3.2.0->streamlit) (3.2.0)\n",
      "Requirement already satisfied: jinja2 in c:\\users\\pierre\\anaconda3\\lib\\site-packages (from altair>=3.2.0->streamlit) (2.11.3)\n",
      "Requirement already satisfied: toolz in c:\\users\\pierre\\anaconda3\\lib\\site-packages (from altair>=3.2.0->streamlit) (0.11.1)\n",
      "Requirement already satisfied: gitdb<5,>=4.0.1 in c:\\users\\pierre\\anaconda3\\lib\\site-packages (from gitpython!=3.1.19->streamlit) (4.0.9)\n",
      "Requirement already satisfied: smmap<6,>=3.0.1 in c:\\users\\pierre\\anaconda3\\lib\\site-packages (from gitdb<5,>=4.0.1->gitpython!=3.1.19->streamlit) (5.0.0)\n",
      "Requirement already satisfied: zipp>=0.5 in c:\\users\\pierre\\anaconda3\\lib\\site-packages (from importlib-metadata>=1.4->streamlit) (3.4.1)\n",
      "Requirement already satisfied: six>=1.11.0 in c:\\users\\pierre\\anaconda3\\lib\\site-packages (from jsonschema>=3.0->altair>=3.2.0->streamlit) (1.15.0)\n",
      "Requirement already satisfied: setuptools in c:\\users\\pierre\\anaconda3\\lib\\site-packages (from jsonschema>=3.0->altair>=3.2.0->streamlit) (52.0.0.post20210125)\n",
      "Requirement already satisfied: pyrsistent>=0.14.0 in c:\\users\\pierre\\anaconda3\\lib\\site-packages (from jsonschema>=3.0->altair>=3.2.0->streamlit) (0.17.3)\n",
      "Requirement already satisfied: pyparsing>=2.0.2 in c:\\users\\pierre\\anaconda3\\lib\\site-packages (from packaging>=14.1->streamlit) (2.4.7)\n",
      "Requirement already satisfied: pytz>=2017.3 in c:\\users\\pierre\\anaconda3\\lib\\site-packages (from pandas>=0.21.0->streamlit) (2021.1)\n",
      "Requirement already satisfied: traitlets>=4.3.2 in c:\\users\\pierre\\anaconda3\\lib\\site-packages (from pydeck>=0.1.dev5->streamlit) (5.0.5)\n",
      "Requirement already satisfied: ipywidgets>=7.0.0 in c:\\users\\pierre\\anaconda3\\lib\\site-packages (from pydeck>=0.1.dev5->streamlit) (7.6.3)\n",
      "Requirement already satisfied: ipykernel>=5.1.2 in c:\\users\\pierre\\anaconda3\\lib\\site-packages (from pydeck>=0.1.dev5->streamlit) (5.3.4)\n",
      "Requirement already satisfied: jupyter-client in c:\\users\\pierre\\anaconda3\\lib\\site-packages (from ipykernel>=5.1.2->pydeck>=0.1.dev5->streamlit) (6.1.12)\n",
      "Requirement already satisfied: ipython>=5.0.0 in c:\\users\\pierre\\anaconda3\\lib\\site-packages (from ipykernel>=5.1.2->pydeck>=0.1.dev5->streamlit) (7.22.0)\n",
      "Requirement already satisfied: jedi>=0.16 in c:\\users\\pierre\\anaconda3\\lib\\site-packages (from ipython>=5.0.0->ipykernel>=5.1.2->pydeck>=0.1.dev5->streamlit) (0.17.2)\n",
      "Requirement already satisfied: decorator in c:\\users\\pierre\\anaconda3\\lib\\site-packages (from ipython>=5.0.0->ipykernel>=5.1.2->pydeck>=0.1.dev5->streamlit) (5.0.6)\n",
      "Requirement already satisfied: pygments in c:\\users\\pierre\\anaconda3\\lib\\site-packages (from ipython>=5.0.0->ipykernel>=5.1.2->pydeck>=0.1.dev5->streamlit) (2.8.1)\n",
      "Requirement already satisfied: backcall in c:\\users\\pierre\\anaconda3\\lib\\site-packages (from ipython>=5.0.0->ipykernel>=5.1.2->pydeck>=0.1.dev5->streamlit) (0.2.0)\n",
      "Requirement already satisfied: prompt-toolkit!=3.0.0,!=3.0.1,<3.1.0,>=2.0.0 in c:\\users\\pierre\\anaconda3\\lib\\site-packages (from ipython>=5.0.0->ipykernel>=5.1.2->pydeck>=0.1.dev5->streamlit) (3.0.17)\n",
      "Requirement already satisfied: colorama in c:\\users\\pierre\\anaconda3\\lib\\site-packages (from ipython>=5.0.0->ipykernel>=5.1.2->pydeck>=0.1.dev5->streamlit) (0.4.4)\n",
      "Requirement already satisfied: pickleshare in c:\\users\\pierre\\anaconda3\\lib\\site-packages (from ipython>=5.0.0->ipykernel>=5.1.2->pydeck>=0.1.dev5->streamlit) (0.7.5)\n",
      "Requirement already satisfied: jupyterlab-widgets>=1.0.0 in c:\\users\\pierre\\anaconda3\\lib\\site-packages (from ipywidgets>=7.0.0->pydeck>=0.1.dev5->streamlit) (1.0.0)\n",
      "Requirement already satisfied: widgetsnbextension~=3.5.0 in c:\\users\\pierre\\anaconda3\\lib\\site-packages (from ipywidgets>=7.0.0->pydeck>=0.1.dev5->streamlit) (3.5.1)\n",
      "Requirement already satisfied: nbformat>=4.2.0 in c:\\users\\pierre\\anaconda3\\lib\\site-packages (from ipywidgets>=7.0.0->pydeck>=0.1.dev5->streamlit) (5.1.3)\n",
      "Requirement already satisfied: parso<0.8.0,>=0.7.0 in c:\\users\\pierre\\anaconda3\\lib\\site-packages (from jedi>=0.16->ipython>=5.0.0->ipykernel>=5.1.2->pydeck>=0.1.dev5->streamlit) (0.7.0)\n",
      "Requirement already satisfied: MarkupSafe>=0.23 in c:\\users\\pierre\\anaconda3\\lib\\site-packages (from jinja2->altair>=3.2.0->streamlit) (1.1.1)\n",
      "Requirement already satisfied: jupyter-core in c:\\users\\pierre\\anaconda3\\lib\\site-packages (from nbformat>=4.2.0->ipywidgets>=7.0.0->pydeck>=0.1.dev5->streamlit) (4.7.1)\n",
      "Requirement already satisfied: ipython-genutils in c:\\users\\pierre\\anaconda3\\lib\\site-packages (from nbformat>=4.2.0->ipywidgets>=7.0.0->pydeck>=0.1.dev5->streamlit) (0.2.0)\n",
      "Requirement already satisfied: wcwidth in c:\\users\\pierre\\anaconda3\\lib\\site-packages (from prompt-toolkit!=3.0.0,!=3.0.1,<3.1.0,>=2.0.0->ipython>=5.0.0->ipykernel>=5.1.2->pydeck>=0.1.dev5->streamlit) (0.2.5)\n",
      "Requirement already satisfied: certifi>=2017.4.17 in c:\\users\\pierre\\anaconda3\\lib\\site-packages (from requests>=2.4->streamlit) (2020.12.5)\n",
      "Requirement already satisfied: idna<3,>=2.5 in c:\\users\\pierre\\anaconda3\\lib\\site-packages (from requests>=2.4->streamlit) (2.10)\n",
      "Requirement already satisfied: chardet<5,>=3.0.2 in c:\\users\\pierre\\anaconda3\\lib\\site-packages (from requests>=2.4->streamlit) (4.0.0)\n",
      "Requirement already satisfied: urllib3<1.27,>=1.21.1 in c:\\users\\pierre\\anaconda3\\lib\\site-packages (from requests>=2.4->streamlit) (1.26.4)\n",
      "Requirement already satisfied: commonmark<0.10.0,>=0.9.0 in c:\\users\\pierre\\anaconda3\\lib\\site-packages (from rich>=10.11.0->streamlit) (0.9.1)\n",
      "Requirement already satisfied: backports.zoneinfo in c:\\users\\pierre\\anaconda3\\lib\\site-packages (from tzlocal>=1.1->streamlit) (0.2.1)\n",
      "Requirement already satisfied: tzdata in c:\\users\\pierre\\anaconda3\\lib\\site-packages (from tzlocal>=1.1->streamlit) (2022.1)\n",
      "Requirement already satisfied: pytz-deprecation-shim in c:\\users\\pierre\\anaconda3\\lib\\site-packages (from tzlocal>=1.1->streamlit) (0.1.0.post0)\n",
      "Requirement already satisfied: notebook>=4.4.1 in c:\\users\\pierre\\anaconda3\\lib\\site-packages (from widgetsnbextension~=3.5.0->ipywidgets>=7.0.0->pydeck>=0.1.dev5->streamlit) (6.3.0)\n",
      "Requirement already satisfied: pyzmq>=17 in c:\\users\\pierre\\anaconda3\\lib\\site-packages (from notebook>=4.4.1->widgetsnbextension~=3.5.0->ipywidgets>=7.0.0->pydeck>=0.1.dev5->streamlit) (20.0.0)\n",
      "Requirement already satisfied: nbconvert in c:\\users\\pierre\\anaconda3\\lib\\site-packages (from notebook>=4.4.1->widgetsnbextension~=3.5.0->ipywidgets>=7.0.0->pydeck>=0.1.dev5->streamlit) (6.0.7)\n",
      "Requirement already satisfied: Send2Trash>=1.5.0 in c:\\users\\pierre\\anaconda3\\lib\\site-packages (from notebook>=4.4.1->widgetsnbextension~=3.5.0->ipywidgets>=7.0.0->pydeck>=0.1.dev5->streamlit) (1.5.0)\n",
      "Requirement already satisfied: argon2-cffi in c:\\users\\pierre\\anaconda3\\lib\\site-packages (from notebook>=4.4.1->widgetsnbextension~=3.5.0->ipywidgets>=7.0.0->pydeck>=0.1.dev5->streamlit) (20.1.0)\n",
      "Requirement already satisfied: terminado>=0.8.3 in c:\\users\\pierre\\anaconda3\\lib\\site-packages (from notebook>=4.4.1->widgetsnbextension~=3.5.0->ipywidgets>=7.0.0->pydeck>=0.1.dev5->streamlit) (0.9.4)\n",
      "Requirement already satisfied: prometheus-client in c:\\users\\pierre\\anaconda3\\lib\\site-packages (from notebook>=4.4.1->widgetsnbextension~=3.5.0->ipywidgets>=7.0.0->pydeck>=0.1.dev5->streamlit) (0.10.1)\n",
      "Requirement already satisfied: pywin32>=1.0 in c:\\users\\pierre\\anaconda3\\lib\\site-packages (from jupyter-core->nbformat>=4.2.0->ipywidgets>=7.0.0->pydeck>=0.1.dev5->streamlit) (227)\n",
      "Requirement already satisfied: pywinpty>=0.5 in c:\\users\\pierre\\anaconda3\\lib\\site-packages (from terminado>=0.8.3->notebook>=4.4.1->widgetsnbextension~=3.5.0->ipywidgets>=7.0.0->pydeck>=0.1.dev5->streamlit) (0.5.7)\n",
      "Requirement already satisfied: cffi>=1.0.0 in c:\\users\\pierre\\anaconda3\\lib\\site-packages (from argon2-cffi->notebook>=4.4.1->widgetsnbextension~=3.5.0->ipywidgets>=7.0.0->pydeck>=0.1.dev5->streamlit) (1.14.5)\n",
      "Requirement already satisfied: pycparser in c:\\users\\pierre\\anaconda3\\lib\\site-packages (from cffi>=1.0.0->argon2-cffi->notebook>=4.4.1->widgetsnbextension~=3.5.0->ipywidgets>=7.0.0->pydeck>=0.1.dev5->streamlit) (2.20)\n",
      "Requirement already satisfied: jupyterlab-pygments in c:\\users\\pierre\\anaconda3\\lib\\site-packages (from nbconvert->notebook>=4.4.1->widgetsnbextension~=3.5.0->ipywidgets>=7.0.0->pydeck>=0.1.dev5->streamlit) (0.1.2)\n",
      "Requirement already satisfied: nbclient<0.6.0,>=0.5.0 in c:\\users\\pierre\\anaconda3\\lib\\site-packages (from nbconvert->notebook>=4.4.1->widgetsnbextension~=3.5.0->ipywidgets>=7.0.0->pydeck>=0.1.dev5->streamlit) (0.5.3)\n",
      "Requirement already satisfied: mistune<2,>=0.8.1 in c:\\users\\pierre\\anaconda3\\lib\\site-packages (from nbconvert->notebook>=4.4.1->widgetsnbextension~=3.5.0->ipywidgets>=7.0.0->pydeck>=0.1.dev5->streamlit) (0.8.4)\n",
      "Requirement already satisfied: testpath in c:\\users\\pierre\\anaconda3\\lib\\site-packages (from nbconvert->notebook>=4.4.1->widgetsnbextension~=3.5.0->ipywidgets>=7.0.0->pydeck>=0.1.dev5->streamlit) (0.4.4)\n",
      "Requirement already satisfied: defusedxml in c:\\users\\pierre\\anaconda3\\lib\\site-packages (from nbconvert->notebook>=4.4.1->widgetsnbextension~=3.5.0->ipywidgets>=7.0.0->pydeck>=0.1.dev5->streamlit) (0.7.1)\n",
      "Requirement already satisfied: pandocfilters>=1.4.1 in c:\\users\\pierre\\anaconda3\\lib\\site-packages (from nbconvert->notebook>=4.4.1->widgetsnbextension~=3.5.0->ipywidgets>=7.0.0->pydeck>=0.1.dev5->streamlit) (1.4.3)\n",
      "Requirement already satisfied: bleach in c:\\users\\pierre\\anaconda3\\lib\\site-packages (from nbconvert->notebook>=4.4.1->widgetsnbextension~=3.5.0->ipywidgets>=7.0.0->pydeck>=0.1.dev5->streamlit) (3.3.0)\n",
      "Requirement already satisfied: async-generator in c:\\users\\pierre\\anaconda3\\lib\\site-packages (from nbclient<0.6.0,>=0.5.0->nbconvert->notebook>=4.4.1->widgetsnbextension~=3.5.0->ipywidgets>=7.0.0->pydeck>=0.1.dev5->streamlit) (1.10)\n",
      "Requirement already satisfied: nest-asyncio in c:\\users\\pierre\\anaconda3\\lib\\site-packages (from nbclient<0.6.0,>=0.5.0->nbconvert->notebook>=4.4.1->widgetsnbextension~=3.5.0->ipywidgets>=7.0.0->pydeck>=0.1.dev5->streamlit) (1.5.1)\n",
      "Requirement already satisfied: webencodings in c:\\users\\pierre\\anaconda3\\lib\\site-packages (from bleach->nbconvert->notebook>=4.4.1->widgetsnbextension~=3.5.0->ipywidgets>=7.0.0->pydeck>=0.1.dev5->streamlit) (0.5.1)\n"
     ]
    }
   ],
   "source": [
    "! pip install streamlit"
   ]
  },
  {
   "cell_type": "code",
   "execution_count": 73,
   "id": "b0cb19a0",
   "metadata": {},
   "outputs": [
    {
     "data": {
      "text/html": [
       "<div>\n",
       "<style scoped>\n",
       "    .dataframe tbody tr th:only-of-type {\n",
       "        vertical-align: middle;\n",
       "    }\n",
       "\n",
       "    .dataframe tbody tr th {\n",
       "        vertical-align: top;\n",
       "    }\n",
       "\n",
       "    .dataframe thead th {\n",
       "        text-align: right;\n",
       "    }\n",
       "</style>\n",
       "<table border=\"1\" class=\"dataframe\">\n",
       "  <thead>\n",
       "    <tr style=\"text-align: right;\">\n",
       "      <th></th>\n",
       "      <th>Brand</th>\n",
       "      <th>Model</th>\n",
       "      <th>Body</th>\n",
       "      <th>Year</th>\n",
       "      <th>Fuel</th>\n",
       "      <th>Engine</th>\n",
       "      <th>Transmission</th>\n",
       "      <th>min_kilometers</th>\n",
       "      <th>max_kilometers</th>\n",
       "    </tr>\n",
       "  </thead>\n",
       "  <tbody>\n",
       "    <tr>\n",
       "      <th>13822</th>\n",
       "      <td>Fiat</td>\n",
       "      <td>Punto</td>\n",
       "      <td>Hatchback</td>\n",
       "      <td>1998</td>\n",
       "      <td>Benzine</td>\n",
       "      <td>1300</td>\n",
       "      <td>Manual</td>\n",
       "      <td>0</td>\n",
       "      <td>9999</td>\n",
       "    </tr>\n",
       "    <tr>\n",
       "      <th>1579</th>\n",
       "      <td>Hyundai</td>\n",
       "      <td>Elantra</td>\n",
       "      <td>Sedan</td>\n",
       "      <td>2013</td>\n",
       "      <td>Benzine</td>\n",
       "      <td>1600</td>\n",
       "      <td>Automatic</td>\n",
       "      <td>140000</td>\n",
       "      <td>159999</td>\n",
       "    </tr>\n",
       "    <tr>\n",
       "      <th>1599</th>\n",
       "      <td>Hyundai</td>\n",
       "      <td>Elantra</td>\n",
       "      <td>Sedan</td>\n",
       "      <td>2010</td>\n",
       "      <td>Benzine</td>\n",
       "      <td>1600</td>\n",
       "      <td>Automatic</td>\n",
       "      <td>140000</td>\n",
       "      <td>159999</td>\n",
       "    </tr>\n",
       "    <tr>\n",
       "      <th>13020</th>\n",
       "      <td>Fiat</td>\n",
       "      <td>128</td>\n",
       "      <td>Sedan</td>\n",
       "      <td>1982</td>\n",
       "      <td>Benzine</td>\n",
       "      <td>1300</td>\n",
       "      <td>Manual</td>\n",
       "      <td>180000</td>\n",
       "      <td>199999</td>\n",
       "    </tr>\n",
       "    <tr>\n",
       "      <th>2390</th>\n",
       "      <td>Hyundai</td>\n",
       "      <td>Verna</td>\n",
       "      <td>Sedan</td>\n",
       "      <td>2010</td>\n",
       "      <td>Benzine</td>\n",
       "      <td>1600</td>\n",
       "      <td>Manual</td>\n",
       "      <td>160000</td>\n",
       "      <td>179999</td>\n",
       "    </tr>\n",
       "    <tr>\n",
       "      <th>...</th>\n",
       "      <td>...</td>\n",
       "      <td>...</td>\n",
       "      <td>...</td>\n",
       "      <td>...</td>\n",
       "      <td>...</td>\n",
       "      <td>...</td>\n",
       "      <td>...</td>\n",
       "      <td>...</td>\n",
       "      <td>...</td>\n",
       "    </tr>\n",
       "    <tr>\n",
       "      <th>13147</th>\n",
       "      <td>Fiat</td>\n",
       "      <td>128</td>\n",
       "      <td>Sedan</td>\n",
       "      <td>1974</td>\n",
       "      <td>Benzine</td>\n",
       "      <td>1300</td>\n",
       "      <td>Manual</td>\n",
       "      <td>200000</td>\n",
       "      <td>300000</td>\n",
       "    </tr>\n",
       "    <tr>\n",
       "      <th>3279</th>\n",
       "      <td>Hyundai</td>\n",
       "      <td>Accent</td>\n",
       "      <td>Sedan</td>\n",
       "      <td>2022</td>\n",
       "      <td>Benzine</td>\n",
       "      <td>1600</td>\n",
       "      <td>Automatic</td>\n",
       "      <td>0</td>\n",
       "      <td>9999</td>\n",
       "    </tr>\n",
       "    <tr>\n",
       "      <th>9869</th>\n",
       "      <td>Fiat</td>\n",
       "      <td>128</td>\n",
       "      <td>Sedan</td>\n",
       "      <td>1981</td>\n",
       "      <td>Benzine</td>\n",
       "      <td>1300</td>\n",
       "      <td>Manual</td>\n",
       "      <td>180000</td>\n",
       "      <td>199999</td>\n",
       "    </tr>\n",
       "    <tr>\n",
       "      <th>10823</th>\n",
       "      <td>Fiat</td>\n",
       "      <td>128</td>\n",
       "      <td>Sedan</td>\n",
       "      <td>1990</td>\n",
       "      <td>Benzine</td>\n",
       "      <td>1300</td>\n",
       "      <td>Manual</td>\n",
       "      <td>120000</td>\n",
       "      <td>139999</td>\n",
       "    </tr>\n",
       "    <tr>\n",
       "      <th>2746</th>\n",
       "      <td>Hyundai</td>\n",
       "      <td>Verna</td>\n",
       "      <td>Sedan</td>\n",
       "      <td>2017</td>\n",
       "      <td>Benzine</td>\n",
       "      <td>1600</td>\n",
       "      <td>Manual</td>\n",
       "      <td>50000</td>\n",
       "      <td>59999</td>\n",
       "    </tr>\n",
       "  </tbody>\n",
       "</table>\n",
       "<p>11773 rows × 9 columns</p>\n",
       "</div>"
      ],
      "text/plain": [
       "         Brand    Model       Body  Year     Fuel  Engine Transmission  \\\n",
       "13822     Fiat    Punto  Hatchback  1998  Benzine    1300       Manual   \n",
       "1579   Hyundai  Elantra      Sedan  2013  Benzine    1600    Automatic   \n",
       "1599   Hyundai  Elantra      Sedan  2010  Benzine    1600    Automatic   \n",
       "13020     Fiat      128      Sedan  1982  Benzine    1300       Manual   \n",
       "2390   Hyundai    Verna      Sedan  2010  Benzine    1600       Manual   \n",
       "...        ...      ...        ...   ...      ...     ...          ...   \n",
       "13147     Fiat      128      Sedan  1974  Benzine    1300       Manual   \n",
       "3279   Hyundai   Accent      Sedan  2022  Benzine    1600    Automatic   \n",
       "9869      Fiat      128      Sedan  1981  Benzine    1300       Manual   \n",
       "10823     Fiat      128      Sedan  1990  Benzine    1300       Manual   \n",
       "2746   Hyundai    Verna      Sedan  2017  Benzine    1600       Manual   \n",
       "\n",
       "       min_kilometers  max_kilometers  \n",
       "13822               0            9999  \n",
       "1579           140000          159999  \n",
       "1599           140000          159999  \n",
       "13020          180000          199999  \n",
       "2390           160000          179999  \n",
       "...               ...             ...  \n",
       "13147          200000          300000  \n",
       "3279                0            9999  \n",
       "9869           180000          199999  \n",
       "10823          120000          139999  \n",
       "2746            50000           59999  \n",
       "\n",
       "[11773 rows x 9 columns]"
      ]
     },
     "execution_count": 73,
     "metadata": {},
     "output_type": "execute_result"
    }
   ],
   "source": [
    "x_train"
   ]
  },
  {
   "cell_type": "code",
   "execution_count": 76,
   "id": "c99c9df7",
   "metadata": {},
   "outputs": [
    {
     "name": "stdout",
     "output_type": "stream",
     "text": [
      "Overwriting app.py\n"
     ]
    }
   ],
   "source": [
    "%%writefile app.py\n",
    "import numpy as np\n",
    "import pandas as pd\n",
    "import streamlit as st \n",
    "import joblib\n",
    "\n",
    "regressor=joblib.load('final_pr_model.pkl')\n",
    "\n",
    "def welcome():\n",
    "    return \"Welcome\"\n",
    "\n",
    "def predict_price(Brand,Model,Body,Year,Fuel,Engine,Transmission,min_kilometers,max_kilometers):\n",
    "    prediction = regressor.predict(pd.DataFrame({'Brand':[Brand],\n",
    "                                                 'Model':[Model],\n",
    "                                                 'Body':[Body],\n",
    "                                                 'Year':[Year],\n",
    "                                                 'Fuel':[Fuel],\n",
    "                                                 'Engine':[Engine],\n",
    "                                                 'Transmission':[Transmission],\n",
    "                                                 'min_kilometers':[min_kilometers],\n",
    "                                                 'max_kilometers':[max_kilometers]}))\n",
    "    print(\"The Price predicted is \")\n",
    "    return prediction\n",
    "\n",
    "def main():\n",
    "    st.title(\"Used Cars in Egypt Price Prediction\")\n",
    "    html_temp = \"\"\"\n",
    "    <div style=\"background-color:tomato;padding:10px\">\n",
    "    <h2 style=\"color:white;text-align:center;\">Streamlit Used Cars in Egypt App </h2>\n",
    "    </div>\n",
    "    \"\"\"\n",
    "    st.markdown(html_temp,unsafe_allow_html=True)\n",
    "    Brand = st.text_input('Brand', 'Type Here')\n",
    "    Model = st.text_input('Model', 'Type Here')\n",
    "    Body = st.text_input('Body', 'Type Here')\n",
    "    Year = st.text_input('Year', 'Type Here')\n",
    "    Fuel = st.text_input('Fuel', 'Type Here')\n",
    "    Engine = st.text_input('Engine', 'Type Here')\n",
    "    Transmission = st.text_input('Transmission', 'Type Here')\n",
    "    min_kilometers = st.text_input('min_kilometers', 'Type Here')\n",
    "    max_kilometers = st.text_input('max_kilometers', 'Type Here')\n",
    "    result = \"\"\n",
    "    \n",
    "    if st.button(\"Predict Price\"):\n",
    "        result = predict_price(Brand,Model,Body,Year,Fuel,Engine,Transmission,min_kilometers,max_kilometers)\n",
    "        \n",
    "    st.success('The Price is {} thousands in EGP'.format(result))\n",
    "    \n",
    "if __name__=='__main__':\n",
    "    main()"
   ]
  },
  {
   "cell_type": "code",
   "execution_count": null,
   "id": "013c9c75",
   "metadata": {},
   "outputs": [],
   "source": [
    "!streamlit run app.py"
   ]
  },
  {
   "cell_type": "code",
   "execution_count": null,
   "id": "ca827892",
   "metadata": {},
   "outputs": [],
   "source": []
  }
 ],
 "metadata": {
  "kernelspec": {
   "display_name": "Python 3",
   "language": "python",
   "name": "python3"
  },
  "language_info": {
   "codemirror_mode": {
    "name": "ipython",
    "version": 3
   },
   "file_extension": ".py",
   "mimetype": "text/x-python",
   "name": "python",
   "nbconvert_exporter": "python",
   "pygments_lexer": "ipython3",
   "version": "3.8.8"
  }
 },
 "nbformat": 4,
 "nbformat_minor": 5
}
